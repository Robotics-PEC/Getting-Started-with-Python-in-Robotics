{
  "nbformat": 4,
  "nbformat_minor": 0,
  "metadata": {
    "colab": {
      "provenance": []
    },
    "kernelspec": {
      "name": "python3",
      "display_name": "Python 3"
    },
    "language_info": {
      "name": "python"
    }
  },
  "cells": [
    {
      "cell_type": "markdown",
      "source": [
        "Why python ?\n",
        "* Easiest programming language to start programming for a beginner.\n",
        "* Growing demand and application in fields like AI, Robotics.\n",
        "\n",
        "\n",
        "---\n",
        "\n",
        "\n",
        "Robotics-\n",
        "  * Computer vision\n",
        "  * ROS\n",
        "  * Micropython\n",
        "\n",
        "---\n",
        "\n",
        "Data Science\n",
        "  * Data Manipulation\n",
        "  * Using different type of models\n",
        "\n",
        "* AI\n",
        "  * LLMs\n",
        "  * Vision\n",
        "  * Prediction\n",
        "\n",
        "---\n",
        "\n",
        "\n"
      ],
      "metadata": {
        "id": "Sik0zzLI4Sb5"
      }
    },
    {
      "cell_type": "markdown",
      "source": [
        "## Part 1: Python Basics\n",
        "### Variables and Data Types\n"
      ],
      "metadata": {
        "id": "48wbVrP1pRA5"
      }
    },
    {
      "cell_type": "code",
      "source": [
        "x = 10             # Integer\n",
        "y = 3.14           # Float\n",
        "name = \"Python\"    # String\n",
        "is_fun = True      # Boolean\n"
      ],
      "metadata": {
        "id": "O5JLWNqzpX_n"
      },
      "execution_count": null,
      "outputs": []
    },
    {
      "cell_type": "code",
      "source": [
        "str1=\"hello this is pec\"\n",
        "print(str1.split(\" \"))"
      ],
      "metadata": {
        "colab": {
          "base_uri": "https://localhost:8080/"
        },
        "id": "kcdm9knmVlvM",
        "outputId": "cc0f795d-4e2a-46f9-d6e0-ae1186f1cbe5"
      },
      "execution_count": null,
      "outputs": [
        {
          "output_type": "stream",
          "name": "stdout",
          "text": [
            "['hello', 'this', 'is', 'pec']\n"
          ]
        }
      ]
    },
    {
      "cell_type": "code",
      "source": [
        "x: int =10  #you can define a particular type but its not enforced\n",
        "x='arya'"
      ],
      "metadata": {
        "id": "4uzmnwKf5jt_"
      },
      "execution_count": null,
      "outputs": []
    },
    {
      "cell_type": "code",
      "source": [
        "print(name[1])\n",
        "print(name[-1])"
      ],
      "metadata": {
        "colab": {
          "base_uri": "https://localhost:8080/"
        },
        "id": "Hh28jfwW-lcd",
        "outputId": "2a087854-f99e-456c-eff2-3d3050620550"
      },
      "execution_count": null,
      "outputs": [
        {
          "output_type": "stream",
          "name": "stdout",
          "text": [
            "y\n",
            "n\n"
          ]
        }
      ]
    },
    {
      "cell_type": "code",
      "source": [
        "print(name[1:4])#slicing"
      ],
      "metadata": {
        "colab": {
          "base_uri": "https://localhost:8080/"
        },
        "id": "zstjQmv2_JHV",
        "outputId": "596be8bf-b412-4c95-939e-bf3e355ae156"
      },
      "execution_count": null,
      "outputs": [
        {
          "output_type": "stream",
          "name": "stdout",
          "text": [
            "yth\n"
          ]
        }
      ]
    },
    {
      "cell_type": "code",
      "source": [
        "# Reverse a string\n",
        "print(name[::-1])"
      ],
      "metadata": {
        "colab": {
          "base_uri": "https://localhost:8080/"
        },
        "id": "Gz1qf7Hu_VT1",
        "outputId": "339c89c9-335f-4f86-a6aa-4a547899ecb3"
      },
      "execution_count": null,
      "outputs": [
        {
          "output_type": "stream",
          "name": "stdout",
          "text": [
            "nohtyP\n"
          ]
        }
      ]
    },
    {
      "cell_type": "markdown",
      "source": [
        "###String Immutability\n",
        "Strings in Python are immutable. This means that they cannot be changed after they are created."
      ],
      "metadata": {
        "id": "p6ptnREY_bis"
      }
    },
    {
      "cell_type": "markdown",
      "source": [
        "If we need to manipulate strings then we can use methods like concatenation, slicing, or formatting to create new strings based on the original.\n"
      ],
      "metadata": {
        "id": "7PrgWRej_klL"
      }
    },
    {
      "cell_type": "code",
      "source": [
        "surname='code'\n",
        "full_name=name+ \" \" +surname\n",
        "print(full_name)"
      ],
      "metadata": {
        "colab": {
          "base_uri": "https://localhost:8080/"
        },
        "id": "nBECzspU_eCu",
        "outputId": "fafd3e7a-fd38-46ad-bbaa-e0cf33c7b4ec"
      },
      "execution_count": null,
      "outputs": [
        {
          "output_type": "stream",
          "name": "stdout",
          "text": [
            "Python code\n"
          ]
        }
      ]
    },
    {
      "cell_type": "markdown",
      "source": [
        "deleting string\n"
      ],
      "metadata": {
        "id": "t140dR4G_zXt"
      }
    },
    {
      "cell_type": "code",
      "source": [
        "del name\n",
        "print(name)"
      ],
      "metadata": {
        "colab": {
          "base_uri": "https://localhost:8080/",
          "height": 159
        },
        "id": "EYKDSKVs_1Js",
        "outputId": "ecee1149-e2aa-445b-c09a-78778da3e465"
      },
      "execution_count": null,
      "outputs": [
        {
          "output_type": "error",
          "ename": "NameError",
          "evalue": "name 'name' is not defined",
          "traceback": [
            "\u001b[0;31m---------------------------------------------------------------------------\u001b[0m",
            "\u001b[0;31mNameError\u001b[0m                                 Traceback (most recent call last)",
            "\u001b[0;32m<ipython-input-58-40b2f89f25eb>\u001b[0m in \u001b[0;36m<cell line: 1>\u001b[0;34m()\u001b[0m\n\u001b[0;32m----> 1\u001b[0;31m \u001b[0;32mdel\u001b[0m \u001b[0mname\u001b[0m\u001b[0;34m\u001b[0m\u001b[0;34m\u001b[0m\u001b[0m\n\u001b[0m\u001b[1;32m      2\u001b[0m \u001b[0mprint\u001b[0m\u001b[0;34m(\u001b[0m\u001b[0mname\u001b[0m\u001b[0;34m)\u001b[0m\u001b[0;34m\u001b[0m\u001b[0;34m\u001b[0m\u001b[0m\n",
            "\u001b[0;31mNameError\u001b[0m: name 'name' is not defined"
          ]
        }
      ]
    },
    {
      "cell_type": "code",
      "source": [
        "wrong_sentence=\"HelloPEC\"\n",
        "new=(wrong_sentence.replace(\"PEC\",\"IIT Chandigarh\"))\n",
        "print(wrong_sentence)\n",
        "print(new)"
      ],
      "metadata": {
        "colab": {
          "base_uri": "https://localhost:8080/"
        },
        "id": "tX0LF_q0_9rA",
        "outputId": "90c87708-b910-4ee1-f53b-8dd85e3a1df2"
      },
      "execution_count": null,
      "outputs": [
        {
          "output_type": "stream",
          "name": "stdout",
          "text": [
            "HelloPEC\n",
            "HelloIIT Chandigarh\n"
          ]
        }
      ]
    },
    {
      "cell_type": "code",
      "source": [
        "print(len(wrong_sentence))"
      ],
      "metadata": {
        "colab": {
          "base_uri": "https://localhost:8080/"
        },
        "id": "hklcvzejAT5F",
        "outputId": "dae42dc1-45e4-4cea-d762-6476c5cda075"
      },
      "execution_count": null,
      "outputs": [
        {
          "output_type": "stream",
          "name": "stdout",
          "text": [
            "8\n"
          ]
        }
      ]
    },
    {
      "cell_type": "code",
      "source": [
        "print(wrong_sentence.upper())\n",
        "print(wrong_sentence.lower())"
      ],
      "metadata": {
        "colab": {
          "base_uri": "https://localhost:8080/"
        },
        "id": "o7m3xGHmAYmv",
        "outputId": "2e38394b-37df-4eb8-b951-762d231e2b2d"
      },
      "execution_count": null,
      "outputs": [
        {
          "output_type": "stream",
          "name": "stdout",
          "text": [
            "HELLO PEC\n",
            "hello pec\n"
          ]
        }
      ]
    },
    {
      "cell_type": "code",
      "source": [
        "s=\"   Hello PEC      \"\n",
        "print(s)\n",
        "print(s.strip())\n",
        "print(len(s))"
      ],
      "metadata": {
        "colab": {
          "base_uri": "https://localhost:8080/"
        },
        "id": "STyiCa-tAgXq",
        "outputId": "2f91e2e3-dcfa-48ac-eb28-49568c4ddefd"
      },
      "execution_count": null,
      "outputs": [
        {
          "output_type": "stream",
          "name": "stdout",
          "text": [
            "   Hello PEC      \n",
            "Hello PEC\n",
            "18\n"
          ]
        }
      ]
    },
    {
      "cell_type": "code",
      "source": [
        "print(s*3)"
      ],
      "metadata": {
        "colab": {
          "base_uri": "https://localhost:8080/"
        },
        "id": "PAWY_EL3Ayc5",
        "outputId": "72eae087-2aa3-4792-fbc9-73dd3f8df05b"
      },
      "execution_count": null,
      "outputs": [
        {
          "output_type": "stream",
          "name": "stdout",
          "text": [
            "   Hello PEC         Hello PEC         Hello PEC      \n"
          ]
        }
      ]
    },
    {
      "cell_type": "markdown",
      "source": [
        "###String formatting f-strings"
      ],
      "metadata": {
        "id": "ZD3Lb339A3YR"
      }
    },
    {
      "cell_type": "code",
      "source": [
        "college='thapar'\n",
        "branch='ece'\n",
        "s=(f\"I am studying in {college} in {branch}\")\n",
        "print(s)"
      ],
      "metadata": {
        "colab": {
          "base_uri": "https://localhost:8080/"
        },
        "id": "p6_Yvo5RA2f-",
        "outputId": "5337836d-5008-4141-fd48-cc3407bb01f9"
      },
      "execution_count": null,
      "outputs": [
        {
          "output_type": "stream",
          "name": "stdout",
          "text": [
            "I am studying in thapar in ece\n"
          ]
        }
      ]
    },
    {
      "cell_type": "markdown",
      "source": [
        "in keyword"
      ],
      "metadata": {
        "id": "z4rSDU-bBPI8"
      }
    },
    {
      "cell_type": "code",
      "source": [
        "print(\"thapar\" in s)\n",
        "print(\"cse\" in s)"
      ],
      "metadata": {
        "colab": {
          "base_uri": "https://localhost:8080/"
        },
        "id": "mH_xuBnqBMnl",
        "outputId": "061e53c9-a1bd-47d0-c2d1-e1e92aa73b47"
      },
      "execution_count": null,
      "outputs": [
        {
          "output_type": "stream",
          "name": "stdout",
          "text": [
            "True\n",
            "False\n"
          ]
        }
      ]
    },
    {
      "cell_type": "markdown",
      "source": [
        "##Generating random values"
      ],
      "metadata": {
        "id": "-KzTZFG_BxP3"
      }
    },
    {
      "cell_type": "code",
      "source": [
        "# Generating Random Integer\n",
        "import random\n",
        "x = random.randint(1, 6)\n",
        "print(x)\n",
        "\n",
        "# Generating Random FLoating Point Integer\n",
        "x = random.uniform(1.0, 10.0)\n",
        "print(x)"
      ],
      "metadata": {
        "colab": {
          "base_uri": "https://localhost:8080/"
        },
        "id": "wStokQGCB0ia",
        "outputId": "cbfbc55e-1d51-43e8-a50b-f430ffeedae7"
      },
      "execution_count": null,
      "outputs": [
        {
          "output_type": "stream",
          "name": "stdout",
          "text": [
            "6\n",
            "2.2052729054376687\n"
          ]
        }
      ]
    },
    {
      "cell_type": "markdown",
      "source": [
        "##LIST TUPLES SETS DICTIONARY\n"
      ],
      "metadata": {
        "id": "6cf16H49CRgB"
      }
    },
    {
      "cell_type": "code",
      "source": [
        "#List-mutable, ordered\n",
        "#inserting in list\n",
        "fruits = [\"apple\", \"banana\", \"cherry\"]\n",
        "print(fruits)\n",
        "fruits.append(\"orange\")\n",
        "print(fruits)\n",
        "fruits.insert(1, \"kiwi\")\n",
        "print(fruits)\n",
        "fruits2=[\"mango\", \"pineapple\"]\n",
        "print(fruits2[:1])\n",
        "print(count(fruits2))\n",
        "fruits.extend(fruits2)\n",
        "print(fruits)"
      ],
      "metadata": {
        "colab": {
          "base_uri": "https://localhost:8080/",
          "height": 280
        },
        "id": "X7NsPkm1CVqr",
        "outputId": "d2972987-c1f6-49b5-cf7b-1bd600c66a00"
      },
      "execution_count": null,
      "outputs": [
        {
          "output_type": "stream",
          "name": "stdout",
          "text": [
            "['apple', 'banana', 'cherry']\n",
            "['apple', 'banana', 'cherry', 'orange']\n",
            "['apple', 'kiwi', 'banana', 'cherry', 'orange']\n",
            "['mango']\n"
          ]
        },
        {
          "output_type": "error",
          "ename": "NameError",
          "evalue": "name 'count' is not defined",
          "traceback": [
            "\u001b[0;31m---------------------------------------------------------------------------\u001b[0m",
            "\u001b[0;31mNameError\u001b[0m                                 Traceback (most recent call last)",
            "\u001b[0;32m<ipython-input-3-52f91f47ba2a>\u001b[0m in \u001b[0;36m<cell line: 11>\u001b[0;34m()\u001b[0m\n\u001b[1;32m      9\u001b[0m \u001b[0mfruits2\u001b[0m\u001b[0;34m=\u001b[0m\u001b[0;34m[\u001b[0m\u001b[0;34m\"mango\"\u001b[0m\u001b[0;34m,\u001b[0m \u001b[0;34m\"pineapple\"\u001b[0m\u001b[0;34m]\u001b[0m\u001b[0;34m\u001b[0m\u001b[0;34m\u001b[0m\u001b[0m\n\u001b[1;32m     10\u001b[0m \u001b[0mprint\u001b[0m\u001b[0;34m(\u001b[0m\u001b[0mfruits2\u001b[0m\u001b[0;34m[\u001b[0m\u001b[0;34m:\u001b[0m\u001b[0;36m1\u001b[0m\u001b[0;34m]\u001b[0m\u001b[0;34m)\u001b[0m\u001b[0;34m\u001b[0m\u001b[0;34m\u001b[0m\u001b[0m\n\u001b[0;32m---> 11\u001b[0;31m \u001b[0mprint\u001b[0m\u001b[0;34m(\u001b[0m\u001b[0mcount\u001b[0m\u001b[0;34m(\u001b[0m\u001b[0mfruits2\u001b[0m\u001b[0;34m)\u001b[0m\u001b[0;34m)\u001b[0m\u001b[0;34m\u001b[0m\u001b[0;34m\u001b[0m\u001b[0m\n\u001b[0m\u001b[1;32m     12\u001b[0m \u001b[0mfruits\u001b[0m\u001b[0;34m.\u001b[0m\u001b[0mextend\u001b[0m\u001b[0;34m(\u001b[0m\u001b[0mfruits2\u001b[0m\u001b[0;34m)\u001b[0m\u001b[0;34m\u001b[0m\u001b[0;34m\u001b[0m\u001b[0m\n\u001b[1;32m     13\u001b[0m \u001b[0mprint\u001b[0m\u001b[0;34m(\u001b[0m\u001b[0mfruits\u001b[0m\u001b[0;34m)\u001b[0m\u001b[0;34m\u001b[0m\u001b[0;34m\u001b[0m\u001b[0m\n",
            "\u001b[0;31mNameError\u001b[0m: name 'count' is not defined"
          ]
        }
      ]
    },
    {
      "cell_type": "code",
      "source": [
        "fruits[0]"
      ],
      "metadata": {
        "colab": {
          "base_uri": "https://localhost:8080/",
          "height": 35
        },
        "id": "nX9dDVVHJ66l",
        "outputId": "3af9d6a6-08e2-406f-e90b-151f5a3027ea"
      },
      "execution_count": null,
      "outputs": [
        {
          "output_type": "execute_result",
          "data": {
            "text/plain": [
              "'apple'"
            ],
            "application/vnd.google.colaboratory.intrinsic+json": {
              "type": "string"
            }
          },
          "metadata": {},
          "execution_count": 86
        }
      ]
    },
    {
      "cell_type": "code",
      "source": [
        "#deleting in list\n",
        "fruits.remove(\"kiwi\")\n",
        "print(fruits)\n",
        "print(fruits.pop(1))\n",
        "print(fruits)\n",
        "del fruits[0]\n",
        "print(fruits)"
      ],
      "metadata": {
        "colab": {
          "base_uri": "https://localhost:8080/"
        },
        "id": "0ULvSHz4DQOC",
        "outputId": "986fa154-fa33-42b8-95f0-c53523f537b9"
      },
      "execution_count": null,
      "outputs": [
        {
          "output_type": "stream",
          "name": "stdout",
          "text": [
            "['apple', 'banana', 'cherry', 'orange', 'mango', 'pineapple']\n",
            "banana\n",
            "['apple', 'cherry', 'orange', 'mango', 'pineapple']\n",
            "['cherry', 'orange', 'mango', 'pineapple']\n"
          ]
        }
      ]
    },
    {
      "cell_type": "code",
      "source": [
        "#iterating in list\n",
        "for f in fruits:\n",
        "    print(f)"
      ],
      "metadata": {
        "colab": {
          "base_uri": "https://localhost:8080/"
        },
        "id": "ABYUYQ0CENpx",
        "outputId": "e7fafcc8-a0c0-42e4-aad6-007f5cc5f3d3"
      },
      "execution_count": null,
      "outputs": [
        {
          "output_type": "stream",
          "name": "stdout",
          "text": [
            "cherry\n",
            "orange\n",
            "mango\n",
            "pineapple\n"
          ]
        }
      ]
    },
    {
      "cell_type": "code",
      "source": [
        "#Tuple-non mutable, ordered\n",
        "fruits = (\"apple\", \"banana\", \"cherry\")\n",
        "print(fruits)\n",
        "\n",
        "also_fruits=(\"kiwi\", \"tomato\", \"santra\")\n",
        "print(also_fruits)\n",
        "\n",
        "all_fruits=(fruits+also_fruits)\n",
        "print(all_fruits)\n",
        "print(also_fruits)"
      ],
      "metadata": {
        "colab": {
          "base_uri": "https://localhost:8080/"
        },
        "id": "hF2zpn1vCbGv",
        "outputId": "7f01455c-0f8a-4b04-89bd-97388f8f0f7a"
      },
      "execution_count": null,
      "outputs": [
        {
          "output_type": "stream",
          "name": "stdout",
          "text": [
            "('apple', 'banana', 'cherry')\n",
            "('kiwi', 'tomato', 'santra')\n",
            "('apple', 'banana', 'cherry', 'kiwi', 'tomato', 'santra')\n",
            "('kiwi', 'tomato', 'santra')\n"
          ]
        }
      ]
    },
    {
      "cell_type": "code",
      "source": [
        "print(all_fruits.index('banana'))\n",
        "print(all_fruits.count('apple'))"
      ],
      "metadata": {
        "colab": {
          "base_uri": "https://localhost:8080/"
        },
        "id": "u84KUj69GZ4R",
        "outputId": "15a082da-18b9-45fc-badd-4954a5e8ae58"
      },
      "execution_count": null,
      "outputs": [
        {
          "output_type": "stream",
          "name": "stdout",
          "text": [
            "1\n",
            "1\n"
          ]
        }
      ]
    },
    {
      "cell_type": "markdown",
      "source": [
        "##Dictionary\n"
      ],
      "metadata": {
        "id": "_Sh627y0HtUc"
      }
    },
    {
      "cell_type": "code",
      "source": [
        "dict={7:\"apple\",56:\"banana\",3:\"cherry\"}\n",
        "print(dict)\n"
      ],
      "metadata": {
        "colab": {
          "base_uri": "https://localhost:8080/"
        },
        "id": "Kc5SiWd3GqDN",
        "outputId": "5298022b-e19c-436f-fecf-6d91f95c1412"
      },
      "execution_count": null,
      "outputs": [
        {
          "output_type": "stream",
          "name": "stdout",
          "text": [
            "{7: 'apple', 56: 'banana', 3: 'cherry'}\n"
          ]
        }
      ]
    },
    {
      "cell_type": "code",
      "source": [
        "print(dict[\"apple\"])"
      ],
      "metadata": {
        "colab": {
          "base_uri": "https://localhost:8080/",
          "height": 141
        },
        "id": "kqNAJMrOjiF3",
        "outputId": "4bfc7eba-e0d5-482f-8394-2b0efa8662b4"
      },
      "execution_count": null,
      "outputs": [
        {
          "output_type": "error",
          "ename": "KeyError",
          "evalue": "'apple'",
          "traceback": [
            "\u001b[0;31m---------------------------------------------------------------------------\u001b[0m",
            "\u001b[0;31mKeyError\u001b[0m                                  Traceback (most recent call last)",
            "\u001b[0;32m<ipython-input-39-8c0e4696c501>\u001b[0m in \u001b[0;36m<cell line: 1>\u001b[0;34m()\u001b[0m\n\u001b[0;32m----> 1\u001b[0;31m \u001b[0mprint\u001b[0m\u001b[0;34m(\u001b[0m\u001b[0mdict\u001b[0m\u001b[0;34m[\u001b[0m\u001b[0;34m\"apple\"\u001b[0m\u001b[0;34m]\u001b[0m\u001b[0;34m)\u001b[0m\u001b[0;34m\u001b[0m\u001b[0;34m\u001b[0m\u001b[0m\n\u001b[0m",
            "\u001b[0;31mKeyError\u001b[0m: 'apple'"
          ]
        }
      ]
    },
    {
      "cell_type": "code",
      "source": [
        "print(dict[56])"
      ],
      "metadata": {
        "colab": {
          "base_uri": "https://localhost:8080/"
        },
        "id": "WNaX0tbg-siL",
        "outputId": "0763ce81-582a-4882-ead9-9ea11457e6ec"
      },
      "execution_count": null,
      "outputs": [
        {
          "output_type": "stream",
          "name": "stdout",
          "text": [
            "banana\n"
          ]
        }
      ]
    },
    {
      "cell_type": "code",
      "source": [
        "dict[9]='kiwi'\n",
        "print(dict)"
      ],
      "metadata": {
        "colab": {
          "base_uri": "https://localhost:8080/"
        },
        "id": "6I3W1opB_S6E",
        "outputId": "9ef6bc2f-02d3-4cbd-de19-ac7e134b2d92"
      },
      "execution_count": null,
      "outputs": [
        {
          "output_type": "stream",
          "name": "stdout",
          "text": [
            "{7: 'apple', 56: 'banana', 3: 'cherry', 9: 'kiwi'}\n"
          ]
        }
      ]
    },
    {
      "cell_type": "code",
      "source": [
        "del dict[7]\n",
        "print(dict)"
      ],
      "metadata": {
        "colab": {
          "base_uri": "https://localhost:8080/"
        },
        "id": "3QAZwcTA_cSM",
        "outputId": "feab99f0-a2cd-48c9-9d05-42e8b778b2a0"
      },
      "execution_count": null,
      "outputs": [
        {
          "output_type": "stream",
          "name": "stdout",
          "text": [
            "{56: 'banana', 3: 'cherry', 9: 'kiwi'}\n"
          ]
        }
      ]
    },
    {
      "cell_type": "code",
      "source": [
        "print(dict.pop(3))\n",
        "print(dict)"
      ],
      "metadata": {
        "colab": {
          "base_uri": "https://localhost:8080/"
        },
        "id": "Pe1xOv9S_jnX",
        "outputId": "5c733270-54ef-45c9-ab93-0895d6ebb8f2"
      },
      "execution_count": null,
      "outputs": [
        {
          "output_type": "stream",
          "name": "stdout",
          "text": [
            "cherry\n",
            "{56: 'banana', 9: 'kiwi'}\n"
          ]
        }
      ]
    },
    {
      "cell_type": "markdown",
      "source": [
        "###Iterating over a dictionary"
      ],
      "metadata": {
        "id": "5zY3oieUADWq"
      }
    },
    {
      "cell_type": "code",
      "source": [
        "for key in dict:\n",
        "    print(key)"
      ],
      "metadata": {
        "colab": {
          "base_uri": "https://localhost:8080/"
        },
        "id": "-Cv59bKcAOdo",
        "outputId": "89064e64-3557-4dcd-8956-fa863b75d8c6"
      },
      "execution_count": null,
      "outputs": [
        {
          "output_type": "stream",
          "name": "stdout",
          "text": [
            "7\n",
            "56\n",
            "3\n",
            "9\n"
          ]
        }
      ]
    },
    {
      "cell_type": "code",
      "source": [
        "for value in dict.values():\n",
        "    print(value)"
      ],
      "metadata": {
        "colab": {
          "base_uri": "https://localhost:8080/"
        },
        "id": "0JbgGfBFARsU",
        "outputId": "d15d820a-bd1e-456e-eaf1-1a77730ae30c"
      },
      "execution_count": null,
      "outputs": [
        {
          "output_type": "stream",
          "name": "stdout",
          "text": [
            "apple\n",
            "banana\n",
            "cherry\n",
            "kiwi\n"
          ]
        }
      ]
    },
    {
      "cell_type": "code",
      "source": [
        "for key, value in dict.items():\n",
        "    print(key, value)"
      ],
      "metadata": {
        "colab": {
          "base_uri": "https://localhost:8080/"
        },
        "id": "ujcijFV-AAXJ",
        "outputId": "db4efa62-eaf7-4b68-adc8-fdde2b577ca6"
      },
      "execution_count": null,
      "outputs": [
        {
          "output_type": "stream",
          "name": "stdout",
          "text": [
            "7 apple\n",
            "56 banana\n",
            "3 cherry\n",
            "9 kiwi\n"
          ]
        }
      ]
    },
    {
      "cell_type": "code",
      "source": [
        "list1=[1,2,3,4]\n",
        "list2=['a','b','c','d']\n",
        "\n",
        "for i,j in zip(list1,list2):\n",
        "  print(i,j)"
      ],
      "metadata": {
        "colab": {
          "base_uri": "https://localhost:8080/"
        },
        "id": "qOHmc1wiM2fZ",
        "outputId": "a4664dd1-0e33-45d8-8683-608ce36a74d7"
      },
      "execution_count": null,
      "outputs": [
        {
          "output_type": "stream",
          "name": "stdout",
          "text": [
            "1 a\n",
            "2 b\n",
            "3 c\n",
            "4 d\n"
          ]
        }
      ]
    },
    {
      "cell_type": "code",
      "source": [],
      "metadata": {
        "id": "8S_y5K2yjb-4"
      },
      "execution_count": null,
      "outputs": []
    },
    {
      "cell_type": "markdown",
      "source": [
        "### Sets"
      ],
      "metadata": {
        "id": "8rfv02wq6tlH"
      }
    },
    {
      "cell_type": "code",
      "source": [
        "list1=[1, 2,  3,2]\n",
        "set1 = {1, 2, 3, 4, 5}\n",
        "set2 = {'apple', 'banana', 'cherry'}\n",
        "set3 = set(list1)  # Duplicate values\n",
        "\n",
        "print(set1)\n",
        "print(set2)\n",
        "print(set3)\n"
      ],
      "metadata": {
        "colab": {
          "base_uri": "https://localhost:8080/"
        },
        "id": "2GAVJ3U66sWF",
        "outputId": "c0b6714f-fa02-4129-879f-8e302e9e3bb2"
      },
      "execution_count": null,
      "outputs": [
        {
          "output_type": "stream",
          "name": "stdout",
          "text": [
            "{1, 2, 3, 4, 5}\n",
            "{'apple', 'cherry', 'banana'}\n",
            "{1, 2, 3}\n"
          ]
        }
      ]
    },
    {
      "cell_type": "code",
      "source": [
        "# Sets do not allow duplicate elements\n",
        "set_example = {1, 1, 2, 2, 3, 3}\n",
        "print(set_example)  # Output: {1, 2, 3}\n",
        "\n",
        "# Sets are unordered, so indexing is not allowed\n",
        "print(set_example[0])  # This will raise a TypeError"
      ],
      "metadata": {
        "colab": {
          "base_uri": "https://localhost:8080/",
          "height": 193
        },
        "id": "DEnayKqV63jB",
        "outputId": "b4330eb9-fb43-4001-b0e1-f1a57bc73f48"
      },
      "execution_count": null,
      "outputs": [
        {
          "output_type": "stream",
          "name": "stdout",
          "text": [
            "{1, 2, 3}\n"
          ]
        },
        {
          "output_type": "error",
          "ename": "TypeError",
          "evalue": "'set' object is not subscriptable",
          "traceback": [
            "\u001b[0;31m---------------------------------------------------------------------------\u001b[0m",
            "\u001b[0;31mTypeError\u001b[0m                                 Traceback (most recent call last)",
            "\u001b[0;32m<ipython-input-116-ffdaaa338c97>\u001b[0m in \u001b[0;36m<cell line: 6>\u001b[0;34m()\u001b[0m\n\u001b[1;32m      4\u001b[0m \u001b[0;34m\u001b[0m\u001b[0m\n\u001b[1;32m      5\u001b[0m \u001b[0;31m# Sets are unordered, so indexing is not allowed\u001b[0m\u001b[0;34m\u001b[0m\u001b[0;34m\u001b[0m\u001b[0m\n\u001b[0;32m----> 6\u001b[0;31m \u001b[0mprint\u001b[0m\u001b[0;34m(\u001b[0m\u001b[0mset_example\u001b[0m\u001b[0;34m[\u001b[0m\u001b[0;36m0\u001b[0m\u001b[0;34m]\u001b[0m\u001b[0;34m)\u001b[0m  \u001b[0;31m# This will raise a TypeError\u001b[0m\u001b[0;34m\u001b[0m\u001b[0;34m\u001b[0m\u001b[0m\n\u001b[0m",
            "\u001b[0;31mTypeError\u001b[0m: 'set' object is not subscriptable"
          ]
        }
      ]
    },
    {
      "cell_type": "code",
      "source": [
        "A = {1, 2, 3}\n",
        "B = {3, 4, 5}\n",
        "print(A | B) #Union"
      ],
      "metadata": {
        "colab": {
          "base_uri": "https://localhost:8080/"
        },
        "id": "VJOeQmhY7MId",
        "outputId": "84b8929e-e197-432b-9487-78525b6ce92e"
      },
      "execution_count": null,
      "outputs": [
        {
          "output_type": "stream",
          "name": "stdout",
          "text": [
            "{1, 2, 3, 4, 5}\n"
          ]
        }
      ]
    },
    {
      "cell_type": "code",
      "source": [
        "print(A & B)#intersection"
      ],
      "metadata": {
        "colab": {
          "base_uri": "https://localhost:8080/"
        },
        "id": "AyM3LfUn7PLK",
        "outputId": "b40453d9-d33a-41ed-f7b2-4cd284f4a7d7"
      },
      "execution_count": null,
      "outputs": [
        {
          "output_type": "stream",
          "name": "stdout",
          "text": [
            "{3}\n"
          ]
        }
      ]
    },
    {
      "cell_type": "code",
      "source": [
        "print(A - B)#difference"
      ],
      "metadata": {
        "colab": {
          "base_uri": "https://localhost:8080/"
        },
        "id": "tZdZXtNb7S7N",
        "outputId": "fdee1fed-a641-45bb-8c55-890d11c31634"
      },
      "execution_count": null,
      "outputs": [
        {
          "output_type": "stream",
          "name": "stdout",
          "text": [
            "{1, 2}\n"
          ]
        }
      ]
    },
    {
      "cell_type": "code",
      "source": [
        "##Mutability\n",
        "mutable_set = {1, 2, 3}\n",
        "\n",
        "mutable_set.add(4)  # Adding an element\n",
        "mutable_set.remove(2)  # Removing an element\n",
        "print(mutable_set)"
      ],
      "metadata": {
        "colab": {
          "base_uri": "https://localhost:8080/"
        },
        "id": "bYJz45kf7gNV",
        "outputId": "19a65b6c-12e5-40a1-f428-a4c3dfa78056"
      },
      "execution_count": null,
      "outputs": [
        {
          "output_type": "stream",
          "name": "stdout",
          "text": [
            "{1, 3, 4}\n"
          ]
        }
      ]
    },
    {
      "cell_type": "code",
      "source": [
        "#Frozen Sets\n",
        "frozen = frozenset([1, 2, 3, 2])\n",
        "print(frozen)  # Output: frozenset({1, 2, 3})\n",
        "\n",
        "# Attempting to modify will raise an AttributeError\n",
        "frozen.add(4)"
      ],
      "metadata": {
        "colab": {
          "base_uri": "https://localhost:8080/",
          "height": 193
        },
        "id": "epl69PCR7rbZ",
        "outputId": "eb41616c-624b-4616-b7e6-fa4dafb45bb7"
      },
      "execution_count": null,
      "outputs": [
        {
          "output_type": "stream",
          "name": "stdout",
          "text": [
            "frozenset({1, 2, 3})\n"
          ]
        },
        {
          "output_type": "error",
          "ename": "AttributeError",
          "evalue": "'frozenset' object has no attribute 'add'",
          "traceback": [
            "\u001b[0;31m---------------------------------------------------------------------------\u001b[0m",
            "\u001b[0;31mAttributeError\u001b[0m                            Traceback (most recent call last)",
            "\u001b[0;32m<ipython-input-119-4bc931cf91f6>\u001b[0m in \u001b[0;36m<cell line: 6>\u001b[0;34m()\u001b[0m\n\u001b[1;32m      4\u001b[0m \u001b[0;34m\u001b[0m\u001b[0m\n\u001b[1;32m      5\u001b[0m \u001b[0;31m# Attempting to modify will raise an AttributeError\u001b[0m\u001b[0;34m\u001b[0m\u001b[0;34m\u001b[0m\u001b[0m\n\u001b[0;32m----> 6\u001b[0;31m \u001b[0mfrozen\u001b[0m\u001b[0;34m.\u001b[0m\u001b[0madd\u001b[0m\u001b[0;34m(\u001b[0m\u001b[0;36m4\u001b[0m\u001b[0;34m)\u001b[0m\u001b[0;34m\u001b[0m\u001b[0;34m\u001b[0m\u001b[0m\n\u001b[0m",
            "\u001b[0;31mAttributeError\u001b[0m: 'frozenset' object has no attribute 'add'"
          ]
        }
      ]
    },
    {
      "cell_type": "markdown",
      "source": [
        "# Basic Operations\n",
        "\n",
        "# Arithmetic operations"
      ],
      "metadata": {
        "id": "3ROFC5Hkpnxf"
      }
    },
    {
      "cell_type": "code",
      "source": [
        "x=2\n",
        "y=3\n",
        "add = x + y\n",
        "multiply = x * y\n",
        "power = x ** 2\n",
        "\n",
        "print(f\"Add: {add}, Multiply: {multiply}, Power: {power}\")"
      ],
      "metadata": {
        "colab": {
          "base_uri": "https://localhost:8080/"
        },
        "id": "6TfZ5WJJprLp",
        "outputId": "470997ae-1b77-4c0c-bbc5-fcfef4020dff"
      },
      "execution_count": null,
      "outputs": [
        {
          "output_type": "stream",
          "name": "stdout",
          "text": [
            "Add: 5, Multiply: 6, Power: 4\n"
          ]
        }
      ]
    },
    {
      "cell_type": "markdown",
      "source": [
        "## Part 2: Intermediate Python\n",
        "### Functions and Classes"
      ],
      "metadata": {
        "id": "Dnf67dnE5_4d"
      }
    },
    {
      "cell_type": "markdown",
      "source": [
        "# Function example"
      ],
      "metadata": {
        "id": "C1u3E4av6TNf"
      }
    },
    {
      "cell_type": "code",
      "source": [
        "def greet(name):\n",
        "    return f\"Hello, {name}!\""
      ],
      "metadata": {
        "id": "GLeHSkaW5-0u"
      },
      "execution_count": null,
      "outputs": []
    },
    {
      "cell_type": "code",
      "source": [
        "greet('arya')\n",
        "print(greet('arjya'))\n",
        "greet('aryssa')\n",
        "greet('aryaaa')\n",
        "greet('aryadf')"
      ],
      "metadata": {
        "colab": {
          "base_uri": "https://localhost:8080/",
          "height": 53
        },
        "id": "0bswpSo96IA0",
        "outputId": "19c5c28a-a95c-41dc-f12a-dcc269005a9d"
      },
      "execution_count": null,
      "outputs": [
        {
          "output_type": "stream",
          "name": "stdout",
          "text": [
            "Hello, arjya!\n"
          ]
        },
        {
          "output_type": "execute_result",
          "data": {
            "text/plain": [
              "'Hello, aryadf!'"
            ],
            "application/vnd.google.colaboratory.intrinsic+json": {
              "type": "string"
            }
          },
          "metadata": {},
          "execution_count": 2
        }
      ]
    },
    {
      "cell_type": "markdown",
      "source": [
        "Recursion\n"
      ],
      "metadata": {
        "id": "BZn-XYrOGzQH"
      }
    },
    {
      "cell_type": "code",
      "source": [
        "def python_def_factorial(n):\n",
        "    if n == 1:\n",
        "        return n\n",
        "    else:\n",
        "        return n*python_def_factorial(n-1)\n",
        "\n",
        "        #example-5\n",
        "        #f(5)->5*f(4)->5*4*f(3)->5*4*3*f(2)->5*4*3*2*1"
      ],
      "metadata": {
        "id": "eWOnH2QEG05H"
      },
      "execution_count": null,
      "outputs": []
    },
    {
      "cell_type": "code",
      "source": [
        "#Add examples"
      ],
      "metadata": {
        "id": "olgTqcYNcefj"
      },
      "execution_count": null,
      "outputs": []
    },
    {
      "cell_type": "code",
      "source": [
        "python_def_factorial(5)"
      ],
      "metadata": {
        "colab": {
          "base_uri": "https://localhost:8080/"
        },
        "id": "WiG726YUG23U",
        "outputId": "18a58d88-a330-4b74-d349-e8f2e16df363"
      },
      "execution_count": null,
      "outputs": [
        {
          "output_type": "execute_result",
          "data": {
            "text/plain": [
              "120"
            ]
          },
          "metadata": {},
          "execution_count": 129
        }
      ]
    },
    {
      "cell_type": "markdown",
      "source": [
        "###*args in functions (Positional Arguments)\n",
        "####Used to parse multiple arguments to a function.\n",
        "\n",
        "```\n",
        "# This is formatted as code\n",
        "```\n",
        "\n",
        "\n",
        "Stores these arguments in a tuple.\n"
      ],
      "metadata": {
        "id": "ux3lwW0fHDSr"
      }
    },
    {
      "cell_type": "code",
      "source": [
        "def add_numbers(*args):\n",
        "    total = 0\n",
        "    for num in args:\n",
        "        total += num\n",
        "    return total"
      ],
      "metadata": {
        "id": "wAS2_ZmNG_BM"
      },
      "execution_count": null,
      "outputs": []
    },
    {
      "cell_type": "code",
      "source": [
        "add_numbers(1,2,3,4,5,6,7)"
      ],
      "metadata": {
        "colab": {
          "base_uri": "https://localhost:8080/"
        },
        "id": "TZyGYJQIHVQe",
        "outputId": "f30aeb08-d779-40c8-8889-a5546a598f79"
      },
      "execution_count": null,
      "outputs": [
        {
          "output_type": "execute_result",
          "data": {
            "text/plain": [
              "28"
            ]
          },
          "metadata": {},
          "execution_count": 132
        }
      ]
    },
    {
      "cell_type": "markdown",
      "source": [
        "###**kwargs in functions (Keyword Arguments)\n",
        "####Used to pass key-value pairs\n",
        "Stores keyword arguments as a dictionary.\n"
      ],
      "metadata": {
        "id": "-IxJ6roBHqmt"
      }
    },
    {
      "cell_type": "code",
      "source": [
        "def print_info(**kwargs):\n",
        "    for key,values in kwargs.items():\n",
        "        print(f\"{key} : {values} \")"
      ],
      "metadata": {
        "id": "L9US9fZ1Hw5q"
      },
      "execution_count": null,
      "outputs": []
    },
    {
      "cell_type": "code",
      "source": [
        "print_info(name=\"Aryaman\",branch=\"ECE\")"
      ],
      "metadata": {
        "colab": {
          "base_uri": "https://localhost:8080/"
        },
        "id": "6r6KAGhEH0qm",
        "outputId": "32013e53-513f-4fe6-8d62-db6ff2738efb"
      },
      "execution_count": null,
      "outputs": [
        {
          "output_type": "stream",
          "name": "stdout",
          "text": [
            "name : Aryaman \n",
            "branch : ECE \n"
          ]
        }
      ]
    },
    {
      "cell_type": "code",
      "source": [
        "def func(*args,**kwargs):\n",
        "    print(args)\n",
        "    print(kwargs)"
      ],
      "metadata": {
        "id": "Q84SbZWmPcFL"
      },
      "execution_count": null,
      "outputs": []
    },
    {
      "cell_type": "code",
      "source": [
        "func(1,2,3,a=\"b\",c=\"d\")"
      ],
      "metadata": {
        "colab": {
          "base_uri": "https://localhost:8080/"
        },
        "id": "EU3OSyciPkkG",
        "outputId": "4344e48a-4029-4a4f-9bfe-f1569b452aae"
      },
      "execution_count": null,
      "outputs": [
        {
          "output_type": "stream",
          "name": "stdout",
          "text": [
            "(1, 2, 3)\n",
            "{'a': 'b', 'c': 'd'}\n"
          ]
        }
      ]
    },
    {
      "cell_type": "markdown",
      "source": [
        "##Lambda Functions - Functional Programming\n",
        "###Syntax-\n",
        "declaration =lambda input parameters : function to be performed"
      ],
      "metadata": {
        "id": "kzS9azyYz4Cm"
      }
    },
    {
      "cell_type": "code",
      "source": [
        "n=lambda x,y:x*y"
      ],
      "metadata": {
        "id": "DlpDJYvLz6Jk"
      },
      "execution_count": null,
      "outputs": []
    },
    {
      "cell_type": "code",
      "source": [
        "n(2,3)"
      ],
      "metadata": {
        "colab": {
          "base_uri": "https://localhost:8080/"
        },
        "id": "EODY1xBI0gd5",
        "outputId": "94bbb454-f520-4f9d-ac98-67a088d037a0"
      },
      "execution_count": null,
      "outputs": [
        {
          "output_type": "execute_result",
          "data": {
            "text/plain": [
              "6"
            ]
          },
          "metadata": {},
          "execution_count": 140
        }
      ]
    },
    {
      "cell_type": "code",
      "source": [
        "n=lambda x,y: \"x is greater than y\" if x>y else \"y is greater than x\""
      ],
      "metadata": {
        "id": "R2yvjNaS0k9H"
      },
      "execution_count": null,
      "outputs": []
    },
    {
      "cell_type": "code",
      "source": [
        "n(2,3)"
      ],
      "metadata": {
        "colab": {
          "base_uri": "https://localhost:8080/",
          "height": 35
        },
        "id": "QlI2g2do0ySN",
        "outputId": "e6706529-e5e5-4d3b-9dd1-b2fd5d7ff574"
      },
      "execution_count": null,
      "outputs": [
        {
          "output_type": "execute_result",
          "data": {
            "text/plain": [
              "'y is greater than x'"
            ],
            "application/vnd.google.colaboratory.intrinsic+json": {
              "type": "string"
            }
          },
          "metadata": {},
          "execution_count": 10
        }
      ]
    },
    {
      "cell_type": "markdown",
      "source": [
        "###Lambda can be used to create list satifying specific conditions."
      ],
      "metadata": {
        "id": "8X-8ikwk036K"
      }
    },
    {
      "cell_type": "code",
      "source": [
        "list1 = [lambda i,x=i:x for i in range(20)]\n",
        "\n",
        "# Testing each lambda in the list\n",
        "for func in list1:\n",
        "    print(func(5))  # Output: 0, 1, 2, 3, 4\n"
      ],
      "metadata": {
        "colab": {
          "base_uri": "https://localhost:8080/"
        },
        "id": "kCGcC67c0_DS",
        "outputId": "9054f42a-c934-4412-8f58-b497948038bc"
      },
      "execution_count": null,
      "outputs": [
        {
          "output_type": "stream",
          "name": "stdout",
          "text": [
            "0\n",
            "1\n",
            "2\n",
            "3\n",
            "4\n",
            "5\n",
            "6\n",
            "7\n",
            "8\n",
            "9\n",
            "10\n",
            "11\n",
            "12\n",
            "13\n",
            "14\n",
            "15\n",
            "16\n",
            "17\n",
            "18\n",
            "19\n"
          ]
        }
      ]
    },
    {
      "cell_type": "markdown",
      "source": [
        "Lambda with Filter, Map, Reduce"
      ],
      "metadata": {
        "id": "NondyyZQ-etO"
      }
    },
    {
      "cell_type": "code",
      "source": [
        "#fliter()\n",
        "list3=[1,2,3,4,5,6,7,8,9]\n",
        "\n",
        "new_list=filter(lambda x:x%3==0,list3)\n",
        "for i in new_list:\n",
        "    print(i)\n"
      ],
      "metadata": {
        "colab": {
          "base_uri": "https://localhost:8080/"
        },
        "id": "X5mwRNqM1Itp",
        "outputId": "1677deeb-9331-404c-b367-31508e16ee54"
      },
      "execution_count": null,
      "outputs": [
        {
          "output_type": "stream",
          "name": "stdout",
          "text": [
            "3\n",
            "6\n",
            "9\n"
          ]
        }
      ]
    },
    {
      "cell_type": "code",
      "source": [
        "#map()\n",
        "\n",
        "mapped_list=map(lambda x:x**2,list3)\n",
        "\n",
        "for i in mapped_list:\n",
        "  print(i)"
      ],
      "metadata": {
        "colab": {
          "base_uri": "https://localhost:8080/"
        },
        "id": "_K0zou3p-7Nv",
        "outputId": "1e8eb04c-9cb5-4436-eb22-e47cc0407aaa"
      },
      "execution_count": null,
      "outputs": [
        {
          "output_type": "stream",
          "name": "stdout",
          "text": [
            "1\n",
            "4\n",
            "9\n",
            "16\n",
            "25\n",
            "36\n",
            "49\n",
            "64\n",
            "81\n"
          ]
        }
      ]
    },
    {
      "cell_type": "code",
      "source": [
        "#reduce()\n",
        "from functools import reduce\n",
        "total=reduce(lambda x,y:x+y,list3)\n",
        "print(total)"
      ],
      "metadata": {
        "colab": {
          "base_uri": "https://localhost:8080/"
        },
        "id": "omBCOuTxRT7a",
        "outputId": "c5f8102d-e979-4748-b097-e930dad1953f"
      },
      "execution_count": null,
      "outputs": [
        {
          "output_type": "stream",
          "name": "stdout",
          "text": [
            "45\n"
          ]
        }
      ]
    },
    {
      "cell_type": "markdown",
      "source": [
        "###Decorators\n",
        "####used to change or modify the functioning of a function, add some functionality etc."
      ],
      "metadata": {
        "id": "talqI_lYQc9a"
      }
    },
    {
      "cell_type": "code",
      "source": [
        "def hello_decorator(func):\n",
        "\n",
        "\n",
        "    def inner1(*args):\n",
        "        print(\"Hello, this is before function execution\")\n",
        "        print(f\"printing outside of function {args} \")\n",
        "\n",
        "        func(args)\n",
        "\n",
        "        print(\"This is after function execution\")\n",
        "\n",
        "    return inner1"
      ],
      "metadata": {
        "id": "HNSbD6LcQe-K"
      },
      "execution_count": null,
      "outputs": []
    },
    {
      "cell_type": "code",
      "source": [
        "def additional_func1(func):\n",
        "   def inner(*args):\n",
        "      print(args)\n",
        "      print(\"first decorator\")\n",
        "\n",
        "      result=func(*args)\n",
        "\n",
        "      return result\n",
        "   return inner\n"
      ],
      "metadata": {
        "id": "ovJ0Y-ExChPa"
      },
      "execution_count": null,
      "outputs": []
    },
    {
      "cell_type": "code",
      "source": [
        "def additional_func2(func):\n",
        "   def inner(*args,**kwargs):\n",
        "      print(args)\n",
        "      print(\"second decorator\")\n",
        "\n",
        "      result=func()\n",
        "\n",
        "      return result\n",
        "   return inner"
      ],
      "metadata": {
        "id": "M3n05a1RGDId"
      },
      "execution_count": null,
      "outputs": []
    },
    {
      "cell_type": "code",
      "source": [
        "@additional_func1\n",
        "@additional_func2\n",
        "def function_to_be_used(a,b):\n",
        "    print(f\"This is inside the function {a} {b} !!\")"
      ],
      "metadata": {
        "id": "z0dTTD4eRO1u"
      },
      "execution_count": null,
      "outputs": []
    },
    {
      "cell_type": "code",
      "source": [
        "# calling the function\n",
        "function_to_be_used(1,5)"
      ],
      "metadata": {
        "colab": {
          "base_uri": "https://localhost:8080/",
          "height": 373
        },
        "id": "QSsV3YxVRQ8U",
        "outputId": "dc5235cb-4760-4759-c2fc-fb17ba55676e"
      },
      "execution_count": null,
      "outputs": [
        {
          "output_type": "stream",
          "name": "stdout",
          "text": [
            "(1, 5)\n",
            "first decorator\n",
            "(1, 5)\n",
            "second decorator\n"
          ]
        },
        {
          "output_type": "error",
          "ename": "TypeError",
          "evalue": "function_to_be_used() missing 2 required positional arguments: 'a' and 'b'",
          "traceback": [
            "\u001b[0;31m---------------------------------------------------------------------------\u001b[0m",
            "\u001b[0;31mTypeError\u001b[0m                                 Traceback (most recent call last)",
            "\u001b[0;32m<ipython-input-31-075f77d2c8c5>\u001b[0m in \u001b[0;36m<cell line: 2>\u001b[0;34m()\u001b[0m\n\u001b[1;32m      1\u001b[0m \u001b[0;31m# calling the function\u001b[0m\u001b[0;34m\u001b[0m\u001b[0;34m\u001b[0m\u001b[0m\n\u001b[0;32m----> 2\u001b[0;31m \u001b[0mfunction_to_be_used\u001b[0m\u001b[0;34m(\u001b[0m\u001b[0;36m1\u001b[0m\u001b[0;34m,\u001b[0m\u001b[0;36m5\u001b[0m\u001b[0;34m)\u001b[0m\u001b[0;34m\u001b[0m\u001b[0;34m\u001b[0m\u001b[0m\n\u001b[0m",
            "\u001b[0;32m<ipython-input-21-fa265055fc3d>\u001b[0m in \u001b[0;36minner\u001b[0;34m(*args)\u001b[0m\n\u001b[1;32m      4\u001b[0m       \u001b[0mprint\u001b[0m\u001b[0;34m(\u001b[0m\u001b[0;34m\"first decorator\"\u001b[0m\u001b[0;34m)\u001b[0m\u001b[0;34m\u001b[0m\u001b[0;34m\u001b[0m\u001b[0m\n\u001b[1;32m      5\u001b[0m \u001b[0;34m\u001b[0m\u001b[0m\n\u001b[0;32m----> 6\u001b[0;31m       \u001b[0mresult\u001b[0m\u001b[0;34m=\u001b[0m\u001b[0mfunc\u001b[0m\u001b[0;34m(\u001b[0m\u001b[0;34m*\u001b[0m\u001b[0margs\u001b[0m\u001b[0;34m)\u001b[0m\u001b[0;34m\u001b[0m\u001b[0;34m\u001b[0m\u001b[0m\n\u001b[0m\u001b[1;32m      7\u001b[0m \u001b[0;34m\u001b[0m\u001b[0m\n\u001b[1;32m      8\u001b[0m       \u001b[0;32mreturn\u001b[0m \u001b[0mresult\u001b[0m\u001b[0;34m\u001b[0m\u001b[0;34m\u001b[0m\u001b[0m\n",
            "\u001b[0;32m<ipython-input-29-a298ba8b74f4>\u001b[0m in \u001b[0;36minner\u001b[0;34m(*args)\u001b[0m\n\u001b[1;32m      4\u001b[0m       \u001b[0mprint\u001b[0m\u001b[0;34m(\u001b[0m\u001b[0;34m\"second decorator\"\u001b[0m\u001b[0;34m)\u001b[0m\u001b[0;34m\u001b[0m\u001b[0;34m\u001b[0m\u001b[0m\n\u001b[1;32m      5\u001b[0m \u001b[0;34m\u001b[0m\u001b[0m\n\u001b[0;32m----> 6\u001b[0;31m       \u001b[0mresult\u001b[0m\u001b[0;34m=\u001b[0m\u001b[0mfunc\u001b[0m\u001b[0;34m(\u001b[0m\u001b[0;34m)\u001b[0m\u001b[0;34m\u001b[0m\u001b[0;34m\u001b[0m\u001b[0m\n\u001b[0m\u001b[1;32m      7\u001b[0m \u001b[0;34m\u001b[0m\u001b[0m\n\u001b[1;32m      8\u001b[0m       \u001b[0;32mreturn\u001b[0m \u001b[0mresult\u001b[0m\u001b[0;34m\u001b[0m\u001b[0;34m\u001b[0m\u001b[0m\n",
            "\u001b[0;31mTypeError\u001b[0m: function_to_be_used() missing 2 required positional arguments: 'a' and 'b'"
          ]
        }
      ]
    },
    {
      "cell_type": "code",
      "source": [],
      "metadata": {
        "id": "11sNAz3pAZ3b"
      },
      "execution_count": null,
      "outputs": []
    },
    {
      "cell_type": "markdown",
      "source": [
        "Using decorators to measure time of execution of a function"
      ],
      "metadata": {
        "id": "-c_EmObeR47W"
      }
    },
    {
      "cell_type": "code",
      "source": [
        "import time\n",
        "\n",
        "# decorator to calculate duration\n",
        "# taken by any function.\n",
        "def calculate_time(func):\n",
        "\n",
        "    # added arguments inside the inner1,\n",
        "    # if function takes any arguments,\n",
        "    # can be added like this.\n",
        "    def inner1(*args, **kwargs):\n",
        "\n",
        "        # storing time before function execution\n",
        "        begin = time.time()# 0th call\n",
        "\n",
        "        func(*args, **kwargs)\n",
        "        print\n",
        "        # storing time after function execution\n",
        "        end = time.time()#\n",
        "\n",
        "        print(\"Total time taken in : \", func.__name__, end - begin)\n",
        "\n",
        "    return inner1\n"
      ],
      "metadata": {
        "id": "I43J_n9J_lew"
      },
      "execution_count": null,
      "outputs": []
    },
    {
      "cell_type": "code",
      "source": [
        "import math\n",
        "@calculate_time\n",
        "def factorial(num):\n",
        "    print(math.factorial(num))\n",
        "\n",
        "factorial(3)"
      ],
      "metadata": {
        "colab": {
          "base_uri": "https://localhost:8080/"
        },
        "id": "3Zbd72J-SSdR",
        "outputId": "a23e5efe-885c-4477-c249-8428093d4c63"
      },
      "execution_count": null,
      "outputs": [
        {
          "output_type": "stream",
          "name": "stdout",
          "text": [
            "6\n",
            "hello\n",
            "Total time taken in :  factorial 0.00010848045349121094\n"
          ]
        }
      ]
    },
    {
      "cell_type": "code",
      "source": [
        "# function(12,3,4,\"ssg\")\n",
        "# function(name=\"arya\",batch=2026)\n",
        "# .items()\n"
      ],
      "metadata": {
        "id": "MZxeBGqQbpjx"
      },
      "execution_count": null,
      "outputs": []
    },
    {
      "cell_type": "markdown",
      "source": [
        "###Type Hints\n",
        "\n",
        "Helps you write Python statically."
      ],
      "metadata": {
        "id": "KOojmNvOWaeS"
      }
    },
    {
      "cell_type": "code",
      "source": [
        "def multiplier(n) :\n",
        "    return 3*n"
      ],
      "metadata": {
        "id": "q9OMBRZZWZia"
      },
      "execution_count": null,
      "outputs": []
    },
    {
      "cell_type": "code",
      "source": [
        "multiplier('area')\n",
        "multiplier(4)"
      ],
      "metadata": {
        "colab": {
          "base_uri": "https://localhost:8080/"
        },
        "id": "SVMBg4YjWix1",
        "outputId": "0ea38d25-66fb-4515-9d74-17a7d913d002"
      },
      "execution_count": null,
      "outputs": [
        {
          "output_type": "execute_result",
          "data": {
            "text/plain": [
              "12"
            ]
          },
          "metadata": {},
          "execution_count": 159
        }
      ]
    },
    {
      "cell_type": "code",
      "source": [
        "#Adding type hints\n",
        "def multiplier(n : int) :\n",
        "    return f\"The answer is {3*n}\"\n",
        "    #mypi"
      ],
      "metadata": {
        "id": "TSM_T8i1Xt62"
      },
      "execution_count": null,
      "outputs": []
    },
    {
      "cell_type": "code",
      "source": [
        "# multiplier(4)\n",
        "multiplier('area')\n",
        "\n"
      ],
      "metadata": {
        "colab": {
          "base_uri": "https://localhost:8080/",
          "height": 35
        },
        "id": "69vWWjt9X4NK",
        "outputId": "32f2164f-87cc-4c4b-bfa0-d6743b440dd1"
      },
      "execution_count": null,
      "outputs": [
        {
          "output_type": "execute_result",
          "data": {
            "text/plain": [
              "'The answer is areaareaarea'"
            ],
            "application/vnd.google.colaboratory.intrinsic+json": {
              "type": "string"
            }
          },
          "metadata": {},
          "execution_count": 26
        }
      ]
    },
    {
      "cell_type": "code",
      "source": [
        "#Adding type hints to both input and output\n",
        "def multiplier(n : int) -> int :\n",
        "    return 3.4"
      ],
      "metadata": {
        "id": "405M7AfDX9DS"
      },
      "execution_count": null,
      "outputs": []
    },
    {
      "cell_type": "code",
      "source": [
        "multiplier(4)"
      ],
      "metadata": {
        "colab": {
          "base_uri": "https://localhost:8080/"
        },
        "id": "oyCBQrt3YLrV",
        "outputId": "9d8a779d-8f59-4e63-8735-34bc4c29f0ed"
      },
      "execution_count": null,
      "outputs": [
        {
          "output_type": "execute_result",
          "data": {
            "text/plain": [
              "3.4"
            ]
          },
          "metadata": {},
          "execution_count": 28
        }
      ]
    },
    {
      "cell_type": "code",
      "source": [],
      "metadata": {
        "id": "b4fbsj-QZ4sR"
      },
      "execution_count": null,
      "outputs": []
    },
    {
      "cell_type": "code",
      "source": [
        "   # Error, cannot mix str and bytes"
      ],
      "metadata": {
        "colab": {
          "base_uri": "https://localhost:8080/",
          "height": 211
        },
        "id": "f2JhWsk-ZxcP",
        "outputId": "fb76d001-245b-4f66-fe1a-5f752c92ec0d"
      },
      "execution_count": null,
      "outputs": [
        {
          "output_type": "error",
          "ename": "NameError",
          "evalue": "name 'AnyStr' is not defined",
          "traceback": [
            "\u001b[0;31m---------------------------------------------------------------------------\u001b[0m",
            "\u001b[0;31mNameError\u001b[0m                                 Traceback (most recent call last)",
            "\u001b[0;32m<ipython-input-36-699235995f1a>\u001b[0m in \u001b[0;36m<cell line: 1>\u001b[0;34m()\u001b[0m\n\u001b[0;32m----> 1\u001b[0;31m \u001b[0;32mdef\u001b[0m \u001b[0mconcat\u001b[0m\u001b[0;34m(\u001b[0m\u001b[0ma\u001b[0m\u001b[0;34m:\u001b[0m \u001b[0mAnyStr\u001b[0m\u001b[0;34m,\u001b[0m \u001b[0mb\u001b[0m\u001b[0;34m:\u001b[0m \u001b[0mAnyStr\u001b[0m\u001b[0;34m)\u001b[0m \u001b[0;34m->\u001b[0m \u001b[0mAnyStr\u001b[0m\u001b[0;34m:\u001b[0m\u001b[0;34m\u001b[0m\u001b[0;34m\u001b[0m\u001b[0m\n\u001b[0m\u001b[1;32m      2\u001b[0m     \u001b[0;32mreturn\u001b[0m \u001b[0ma\u001b[0m \u001b[0;34m+\u001b[0m \u001b[0mb\u001b[0m\u001b[0;34m\u001b[0m\u001b[0;34m\u001b[0m\u001b[0m\n\u001b[1;32m      3\u001b[0m \u001b[0;34m\u001b[0m\u001b[0m\n\u001b[1;32m      4\u001b[0m \u001b[0mconcat\u001b[0m\u001b[0;34m(\u001b[0m\u001b[0;34m\"foo\"\u001b[0m\u001b[0;34m,\u001b[0m \u001b[0;34m\"bar\"\u001b[0m\u001b[0;34m)\u001b[0m    \u001b[0;31m# OK, output has type 'str'\u001b[0m\u001b[0;34m\u001b[0m\u001b[0;34m\u001b[0m\u001b[0m\n\u001b[1;32m      5\u001b[0m \u001b[0mconcat\u001b[0m\u001b[0;34m(\u001b[0m\u001b[0;34mb\"foo\"\u001b[0m\u001b[0;34m,\u001b[0m \u001b[0;34mb\"bar\"\u001b[0m\u001b[0;34m)\u001b[0m  \u001b[0;31m# OK, output has type 'bytes'\u001b[0m\u001b[0;34m\u001b[0m\u001b[0;34m\u001b[0m\u001b[0m\n",
            "\u001b[0;31mNameError\u001b[0m: name 'AnyStr' is not defined"
          ]
        }
      ]
    },
    {
      "cell_type": "markdown",
      "source": [
        "# **OOPs in python**\n"
      ],
      "metadata": {
        "id": "WwXoMU6U6OU2"
      }
    },
    {
      "cell_type": "markdown",
      "source": [
        "##Class Variable VS Instance Vaiable"
      ],
      "metadata": {
        "id": "jRU1xl4pcJyN"
      }
    },
    {
      "cell_type": "code",
      "source": [
        "class Calculator:\n",
        "    shape='rectangle' ##Class variable\n",
        "    def __init__(self,user):\n",
        "        self.user=user ##Instance Variable\n",
        "        self.result =0\n",
        "\n",
        "    def add(self, value1,value2):\n",
        "        self.result = value1+value2\n",
        "        return self.result\n",
        "\n",
        "    def multiply(self, value1,value2):\n",
        "        self.result = value1* value2\n",
        "        return self.result"
      ],
      "metadata": {
        "id": "-YQkkhaj6Nbu"
      },
      "execution_count": null,
      "outputs": []
    },
    {
      "cell_type": "code",
      "source": [
        "calc1 = Calculator('student1')\n",
        "print(calc1.user)\n",
        "print(calc1.shape)\n",
        "print(\"Addition:\", calc1.add(5,6))\n",
        "print(\"Multiplication:\", calc1.multiply(5,6))"
      ],
      "metadata": {
        "colab": {
          "base_uri": "https://localhost:8080/"
        },
        "id": "Ehr6WLzF6aEF",
        "outputId": "9542f3d7-c19a-4c9d-cf9c-998d405cbfe7"
      },
      "execution_count": null,
      "outputs": [
        {
          "output_type": "stream",
          "name": "stdout",
          "text": [
            "student1\n",
            "rectangle\n",
            "Addition: 11\n",
            "Multiplication: 30\n"
          ]
        }
      ]
    },
    {
      "cell_type": "code",
      "source": [
        "calc2 = Calculator('student2')\n",
        "print(calc2.user)\n",
        "print(calc2.shape)\n",
        "print(\"Addition: \", calc2.add(6,7))\n",
        "print(\"Multiplication: \", calc2.multiply(6,7))"
      ],
      "metadata": {
        "colab": {
          "base_uri": "https://localhost:8080/"
        },
        "id": "xhZaFCvmb6kf",
        "outputId": "2078491e-d38e-4dd1-b110-971275b003b9"
      },
      "execution_count": null,
      "outputs": [
        {
          "output_type": "stream",
          "name": "stdout",
          "text": [
            "student2\n",
            "rectangle\n",
            "Addition:  13\n",
            "Multiplication:  42\n"
          ]
        }
      ]
    },
    {
      "cell_type": "markdown",
      "source": [
        "##Inheritance\n"
      ],
      "metadata": {
        "id": "jB-Pz4vjZzIG"
      }
    },
    {
      "cell_type": "code",
      "source": [
        "class Student:\n",
        "    def __init__(self,name, batch):\n",
        "        self.name=name\n",
        "        self.batch=batch\n",
        "    def get_batch(self):\n",
        "          print(self.batch)"
      ],
      "metadata": {
        "id": "9IEmUBRaZ3ZQ"
      },
      "execution_count": null,
      "outputs": []
    },
    {
      "cell_type": "code",
      "source": [
        "student1=Student('Arya',2026)\n",
        "print(student1.name)\n",
        "student1.get_batch()"
      ],
      "metadata": {
        "colab": {
          "base_uri": "https://localhost:8080/"
        },
        "id": "nMaP6xu9bNkj",
        "outputId": "739daca6-6734-4311-a4bb-3113086a07d1"
      },
      "execution_count": null,
      "outputs": [
        {
          "output_type": "stream",
          "name": "stdout",
          "text": [
            "Arya\n",
            "2026\n"
          ]
        }
      ]
    },
    {
      "cell_type": "markdown",
      "source": [
        "## Single Inheritance"
      ],
      "metadata": {
        "id": "S1Vk31JedR-p"
      }
    },
    {
      "cell_type": "code",
      "source": [
        "class branch_student(Student):\n",
        "    def __init__(self,name,batch,branch):\n",
        "        super().__init__(name,batch)\n",
        "        self.branch=branch\n",
        "    def get_branch(self):\n",
        "        print(self.branch)"
      ],
      "metadata": {
        "id": "OPv3Kb2LbWl4"
      },
      "execution_count": null,
      "outputs": []
    },
    {
      "cell_type": "code",
      "source": [
        "stu_branch1=branch_student('Aryaman',2026,'ECE')\n",
        "stu_branch1.get_batch()\n",
        "stu_branch1.get_branch()"
      ],
      "metadata": {
        "colab": {
          "base_uri": "https://localhost:8080/"
        },
        "id": "4hIIVIRJck7J",
        "outputId": "e3e8c888-74c2-4bce-bab4-47e1aba58f23"
      },
      "execution_count": null,
      "outputs": [
        {
          "output_type": "stream",
          "name": "stdout",
          "text": [
            "2026\n",
            "ECE\n"
          ]
        }
      ]
    },
    {
      "cell_type": "markdown",
      "source": [
        "## Multilevel Inheritance"
      ],
      "metadata": {
        "id": "WIxFJamQdVRv"
      }
    },
    {
      "cell_type": "code",
      "source": [
        "class address(branch_student):\n",
        "    def __init__(self,name,batch,branch,address):\n",
        "      super().__init__(name,batch,branch)\n",
        "      self.address=address\n",
        "\n",
        "    def get_address(self):\n",
        "        print(self.address)"
      ],
      "metadata": {
        "id": "v2CH360hdMp2"
      },
      "execution_count": null,
      "outputs": []
    },
    {
      "cell_type": "code",
      "source": [
        "stu_address=address('Aryaman',2026,'ECE','Chandigarh')\n",
        "stu_address.get_batch()\n",
        "stu_address.get_branch()\n",
        "stu_address.get_address()"
      ],
      "metadata": {
        "colab": {
          "base_uri": "https://localhost:8080/"
        },
        "id": "sULDchHveF_R",
        "outputId": "38f28f50-9e53-4303-bbfb-da190b00e2b1"
      },
      "execution_count": null,
      "outputs": [
        {
          "output_type": "stream",
          "name": "stdout",
          "text": [
            "2026\n",
            "ECE\n",
            "Chandigarh\n"
          ]
        }
      ]
    },
    {
      "cell_type": "markdown",
      "source": [
        "##Multiple Inheritance"
      ],
      "metadata": {
        "id": "WXtaJcW5e22r"
      }
    },
    {
      "cell_type": "code",
      "source": [
        "class class1:\n",
        "    def __init__(self,name):\n",
        "        self.name=name\n",
        "    def get_name(self):\n",
        "        print(self.name)"
      ],
      "metadata": {
        "id": "mcJoLgdde5d8"
      },
      "execution_count": null,
      "outputs": []
    },
    {
      "cell_type": "code",
      "source": [
        "class class2:\n",
        "    def __init__(self,age):\n",
        "        self.age=age\n",
        "    def get_age(self):\n",
        "        print(self.age)"
      ],
      "metadata": {
        "id": "QOvKGqF6fQQ6"
      },
      "execution_count": null,
      "outputs": []
    },
    {
      "cell_type": "code",
      "source": [
        "class class3(class1,class2):\n",
        "    def __init__(self,name,age,address):\n",
        "        class1.__init__(self,name)\n",
        "        class2.__init__(self,age)\n",
        "        self.address=address\n",
        "    def get_address(self):\n",
        "        print(self.address)\n",
        "\n"
      ],
      "metadata": {
        "id": "7K3MR9MMfTDY"
      },
      "execution_count": null,
      "outputs": []
    },
    {
      "cell_type": "code",
      "source": [
        "example=class3('Aryaman',20,\"chd\")\n",
        "example.get_name()\n",
        "example.get_age()\n",
        "example.get_address()"
      ],
      "metadata": {
        "colab": {
          "base_uri": "https://localhost:8080/"
        },
        "id": "FhBFcvSafZbk",
        "outputId": "438cf6ea-c274-4a7d-bca3-26f077a0a1ac"
      },
      "execution_count": null,
      "outputs": [
        {
          "output_type": "stream",
          "name": "stdout",
          "text": [
            "Aryaman\n",
            "20\n",
            "chd\n"
          ]
        }
      ]
    },
    {
      "cell_type": "markdown",
      "source": [
        "##Polymorphism\n",
        "\n",
        "A function, method or operator can perform different functions based on the data types or object type."
      ],
      "metadata": {
        "id": "0xzB94UDdpgf"
      }
    },
    {
      "cell_type": "code",
      "source": [
        "#It is exhibited by operators\n",
        "# Examples\n",
        "s1='Hi '\n",
        "s2='Aryaman'\n",
        "print(s1+s2)\n",
        "\n",
        "n1=9\n",
        "n2=1\n",
        "print(n1+n2)\n",
        "#same '+' performs differently for strings and numbers"
      ],
      "metadata": {
        "colab": {
          "base_uri": "https://localhost:8080/"
        },
        "id": "dDC5Iek3duN2",
        "outputId": "ba43d22a-7ad3-458f-b9c8-620e44d7deec"
      },
      "execution_count": null,
      "outputs": [
        {
          "output_type": "stream",
          "name": "stdout",
          "text": [
            "Hi Aryaman\n",
            "10\n"
          ]
        }
      ]
    },
    {
      "cell_type": "code",
      "source": [
        "#even built in functions like len(), max(), min() exhibit this\n",
        "\n",
        "print(max('HelloPython'))\n",
        "print(min('HelloPython'))\n",
        "print(len('HelloPython'))\n",
        "\n",
        "print(max([1,2,3,4,5]))\n",
        "print(min([1,2,3,4,5]))\n",
        "print(len([1,2,3,4,5]))"
      ],
      "metadata": {
        "colab": {
          "base_uri": "https://localhost:8080/"
        },
        "id": "6RWxHMNdeW-d",
        "outputId": "0a2ce8e9-f5ae-4beb-edee-d8cbc29b1ceb"
      },
      "execution_count": null,
      "outputs": [
        {
          "output_type": "stream",
          "name": "stdout",
          "text": [
            "y\n",
            "H\n",
            "11\n",
            "5\n",
            "1\n",
            "5\n"
          ]
        }
      ]
    },
    {
      "cell_type": "code",
      "source": [
        "#Polymorphism in OOPs\n",
        "class Shape:\n",
        "    def area(self):\n",
        "        return \"Undefined\"\n",
        "\n",
        "class Rectangle(Shape):\n",
        "    def __init__(self, length, width):\n",
        "        self.length = length\n",
        "        self.width = width\n",
        "\n",
        "    def area(self):\n",
        "        return self.length * self.width\n",
        "\n",
        "class Circle(Shape):\n",
        "    def __init__(self, radius):\n",
        "        self.radius = radius\n",
        "\n",
        "    def area(self):\n",
        "        return 3.14 * self.radius ** 2\n",
        "\n"
      ],
      "metadata": {
        "id": "e1I7MGice1FQ"
      },
      "execution_count": null,
      "outputs": []
    },
    {
      "cell_type": "code",
      "source": [
        "circle=Circle(2)\n",
        "rectangle=Rectangle(2,3)\n",
        "print(circle.area())\n",
        "print(rectangle.area())\n",
        "#same area function performs diffrent operations\n",
        "#this is done using *Method Overloading*"
      ],
      "metadata": {
        "colab": {
          "base_uri": "https://localhost:8080/"
        },
        "id": "7V-3wkmNe9J6",
        "outputId": "51404492-21af-4a62-d21e-d97f4d8ccea7"
      },
      "execution_count": null,
      "outputs": [
        {
          "output_type": "stream",
          "name": "stdout",
          "text": [
            "12.56\n",
            "6\n"
          ]
        }
      ]
    },
    {
      "cell_type": "markdown",
      "source": [
        "\n",
        "\n",
        "> Types of Polymorphism\n",
        "\n",
        "\n",
        "\n",
        "\n",
        "1.   Compile-time Polymorphism\n",
        "2.   Runtime Polymorphism\n",
        "\n",
        "\n"
      ],
      "metadata": {
        "id": "nWhsS6fzfaGY"
      }
    },
    {
      "cell_type": "markdown",
      "source": [
        "\n",
        "\n",
        "*   Python has Runtime Polymorphism\n",
        "*   Languages like C, Java have compile time polymorphism\n",
        "\n",
        "\n",
        "\n",
        "> Why?\n",
        "Because python is dynamically type i.e. the type of variable is detrmined at the run time, not before execution.\n",
        "But, languages like C, Java are statically typed so their type is explicitly defined beforehand.\n",
        "\n",
        "\n",
        "\n",
        "\n"
      ],
      "metadata": {
        "id": "yuNuixjMfwUm"
      }
    },
    {
      "cell_type": "markdown",
      "source": [
        "##Encapsulation\n",
        "_ single underscore is a convention not enforced -its called protected attribute\n",
        "\n",
        "---\n",
        "\n",
        "\n",
        "__ double underscore is enforced by python - they are called private members\n",
        "\n",
        "\n",
        "\n",
        "\n"
      ],
      "metadata": {
        "id": "kZUGN_1-QN-M"
      }
    },
    {
      "cell_type": "markdown",
      "source": [
        "\n",
        "* Controlled Access: Encapsulation allows\n",
        "controlled access to the internal state of an object, protecting the data from unintended interference.\n",
        "* Data Hiding: It hides the internal workings of a class, making the implementation details invisible to outside code and reducing the risk of accidental data modification.\n",
        "* Improved Maintenance: Changes to the internal implementation of a class do not affect code that uses the class, as long as the public interface remains unchanged.\n",
        "* Enhanced Flexibility: Encapsulation promotes modular design, making it easier to modify or extend functionality without impacting other parts of the program."
      ],
      "metadata": {
        "id": "P8Lo2P3aZ0CY"
      }
    },
    {
      "cell_type": "code",
      "source": [
        "class Protected:\n",
        "    def __init__(self):\n",
        "        self._age = 30  # Protected attribute\n",
        "\n",
        "class Subclass(Protected):\n",
        "    def display_age(self):\n",
        "        print(self._age)  # Accessible in subclass\n",
        "\n",
        "obj = Subclass()\n",
        "obj.display_age()\n",
        "print(obj._age)"
      ],
      "metadata": {
        "colab": {
          "base_uri": "https://localhost:8080/"
        },
        "id": "RhdjllnRQWLc",
        "outputId": "dfeb836c-35c1-421f-e4e5-0410fb7bddee"
      },
      "execution_count": null,
      "outputs": [
        {
          "output_type": "stream",
          "name": "stdout",
          "text": [
            "30\n",
            "30\n"
          ]
        }
      ]
    },
    {
      "cell_type": "code",
      "source": [
        "print(obj._age)"
      ],
      "metadata": {
        "colab": {
          "base_uri": "https://localhost:8080/"
        },
        "id": "piCqsK_iYm0E",
        "outputId": "09c51e6a-b522-423d-b6a0-24724ecc71ba"
      },
      "execution_count": null,
      "outputs": [
        {
          "output_type": "stream",
          "name": "stdout",
          "text": [
            "30\n"
          ]
        }
      ]
    },
    {
      "cell_type": "code",
      "source": [
        "class Private:\n",
        "    def __init__(self):\n",
        "        self.__salary = 50000  # Private attribute\n",
        "\n",
        "    def salary(self):\n",
        "        return self.__salary  # Access through public method\n",
        "\n",
        "obj = Private()\n"
      ],
      "metadata": {
        "id": "atbYLnUNZRtk"
      },
      "execution_count": null,
      "outputs": []
    },
    {
      "cell_type": "code",
      "source": [
        "print(obj.salary())  # Works\n"
      ],
      "metadata": {
        "colab": {
          "base_uri": "https://localhost:8080/"
        },
        "id": "JSS4mF3DZfZw",
        "outputId": "d1fb38ab-ba39-4be2-887c-70c587cd7c59"
      },
      "execution_count": null,
      "outputs": [
        {
          "output_type": "stream",
          "name": "stdout",
          "text": [
            "50000\n"
          ]
        }
      ]
    },
    {
      "cell_type": "code",
      "source": [
        "print(obj.__salary)  # Raises AttributeError"
      ],
      "metadata": {
        "colab": {
          "base_uri": "https://localhost:8080/",
          "height": 141
        },
        "id": "SWxVVRETZhYC",
        "outputId": "13e3e362-ec4b-45d4-bea3-013c5231c802"
      },
      "execution_count": null,
      "outputs": [
        {
          "output_type": "error",
          "ename": "AttributeError",
          "evalue": "'Private' object has no attribute '__salary'",
          "traceback": [
            "\u001b[0;31m---------------------------------------------------------------------------\u001b[0m",
            "\u001b[0;31mAttributeError\u001b[0m                            Traceback (most recent call last)",
            "\u001b[0;32m<ipython-input-83-c96338681154>\u001b[0m in \u001b[0;36m<cell line: 1>\u001b[0;34m()\u001b[0m\n\u001b[0;32m----> 1\u001b[0;31m \u001b[0mprint\u001b[0m\u001b[0;34m(\u001b[0m\u001b[0mobj\u001b[0m\u001b[0;34m.\u001b[0m\u001b[0m__salary\u001b[0m\u001b[0;34m)\u001b[0m  \u001b[0;31m# Raises AttributeError\u001b[0m\u001b[0;34m\u001b[0m\u001b[0;34m\u001b[0m\u001b[0m\n\u001b[0m",
            "\u001b[0;31mAttributeError\u001b[0m: 'Private' object has no attribute '__salary'"
          ]
        }
      ]
    },
    {
      "cell_type": "markdown",
      "source": [
        "####using properties decorator"
      ],
      "metadata": {
        "id": "2CrEOtokuS0G"
      }
    },
    {
      "cell_type": "code",
      "source": [
        "#Example of '''@properties'''\n",
        "class Rectangle:\n",
        "    '''Hello'''\n",
        "    def __init__(self, width, height):\n",
        "        self._width = width  # Protected attribute\n",
        "        self._height = height  # Protected attribute\n",
        "\n",
        "    @property\n",
        "    def area(self):\n",
        "        \"\"\"Compute the area of the rectangle.\"\"\"\n",
        "        return self._width * self._height\n",
        "\n",
        "\n",
        "    @property\n",
        "    def width(self):\n",
        "      return self._width\n",
        "\n",
        "    @width.setter\n",
        "    def width(self, value):\n",
        "        \"\"\"Setter for the width with validation.\"\"\"\n",
        "        if value <= 0:\n",
        "            raise ValueError(\"Width must be greater than zero.\")\n",
        "        self._width = value\n",
        "\n",
        "    @property\n",
        "    def height(self):\n",
        "        \"\"\"Getter for the height.\"\"\"\n",
        "        return self._height\n",
        "\n",
        "    @height.setter\n",
        "    def height(self, value):\n",
        "        \"\"\"Setter for the height with validation.\"\"\"\n",
        "        if value <= 0:\n",
        "            raise ValueError(\"Height must be greater than zero.\")\n",
        "        self._height = value\n",
        "\n",
        "    @width.deleter\n",
        "    def width(self):\n",
        "        \"\"\"Deleter for the width.\"\"\"\n",
        "        print(\"Deleting width...\")\n",
        "        self._width = None\n",
        "\n",
        "    @height.deleter\n",
        "    def height(self):\n",
        "        \"\"\"Deleter for the height.\"\"\"\n",
        "        print(\"Deleting height...\")\n",
        "        self._height = None\n",
        "\n",
        "\n",
        "# Usage\n",
        "rect = Rectangle(4, 5)\n",
        "\n",
        "# Access area (computed property)\n",
        "print(\"Area:\", rect.area)  # Output: Area: 20\n",
        "\n",
        "\n",
        "\n",
        "\n",
        "# # Delete width and height\n",
        "del rect.width\n",
        "del rect.height\n",
        "print(\"Width after deletion:\", rect._width)  # Output: None\n",
        "print(\"Height after deletion:\", rect._height)  # Output: None\n",
        "\n"
      ],
      "metadata": {
        "colab": {
          "base_uri": "https://localhost:8080/"
        },
        "id": "_5Z4izO7uUPL",
        "outputId": "2fe940f1-7e42-405f-9fed-409e5a9ee615"
      },
      "execution_count": null,
      "outputs": [
        {
          "output_type": "stream",
          "name": "stdout",
          "text": [
            "Area: 20\n",
            "Deleting width...\n",
            "Deleting height...\n",
            "Width after deletion: None\n",
            "Height after deletion: None\n"
          ]
        }
      ]
    },
    {
      "cell_type": "code",
      "source": [
        "print(Rectangle.area.__doc__)##meaning of using triple quotes (doc string)"
      ],
      "metadata": {
        "colab": {
          "base_uri": "https://localhost:8080/"
        },
        "id": "iJ2ce20fudor",
        "outputId": "6ae7bea0-2bb8-45cb-af5e-a95aac9a793b"
      },
      "execution_count": null,
      "outputs": [
        {
          "output_type": "stream",
          "name": "stdout",
          "text": [
            "Compute the area of the rectangle.\n"
          ]
        }
      ]
    },
    {
      "cell_type": "code",
      "source": [
        "#one more example on properties\n",
        "class temperature:\n",
        "   def __init__(self,temp):\n",
        "    self._temp=temp\n",
        "\n",
        "   @property\n",
        "   def temp(self):\n",
        "      return self._temp\n",
        "   @property\n",
        "   def temp_in_fahrenhit(self):\n",
        "      return (self._temp*9/5)+32\n",
        "   @temp.setter\n",
        "   def set_temp(self,value):\n",
        "      self._temp=value"
      ],
      "metadata": {
        "id": "KtxxYN7919v5"
      },
      "execution_count": null,
      "outputs": []
    },
    {
      "cell_type": "code",
      "source": [
        "temp1=temperature(100)\n",
        "print(temp1.temp)"
      ],
      "metadata": {
        "colab": {
          "base_uri": "https://localhost:8080/"
        },
        "id": "o2tcDwaX2hGR",
        "outputId": "47151bb6-b64b-4581-f03c-b065ed053a6b"
      },
      "execution_count": null,
      "outputs": [
        {
          "output_type": "stream",
          "name": "stdout",
          "text": [
            "100\n"
          ]
        }
      ]
    },
    {
      "cell_type": "code",
      "source": [
        "(temp1.temp_in_fahrenhit)"
      ],
      "metadata": {
        "colab": {
          "base_uri": "https://localhost:8080/"
        },
        "id": "MFYPFAFu94GJ",
        "outputId": "cce964e2-94c6-4b94-b7d3-09258b210b9a"
      },
      "execution_count": null,
      "outputs": [
        {
          "output_type": "execute_result",
          "data": {
            "text/plain": [
              "212.0"
            ]
          },
          "metadata": {},
          "execution_count": 93
        }
      ]
    },
    {
      "cell_type": "code",
      "source": [
        "temp1.set_temp=0"
      ],
      "metadata": {
        "id": "DH-BN_YE8Zjl"
      },
      "execution_count": null,
      "outputs": []
    },
    {
      "cell_type": "code",
      "source": [
        "print(temp1.temp)"
      ],
      "metadata": {
        "colab": {
          "base_uri": "https://localhost:8080/"
        },
        "id": "07qEHqLF9lmv",
        "outputId": "7fad71d0-e87d-45ca-a30f-916eee24e65c"
      },
      "execution_count": null,
      "outputs": [
        {
          "output_type": "stream",
          "name": "stdout",
          "text": [
            "0\n"
          ]
        }
      ]
    },
    {
      "cell_type": "code",
      "source": [
        "(temp1.temp_in_fahrenhit)"
      ],
      "metadata": {
        "colab": {
          "base_uri": "https://localhost:8080/"
        },
        "id": "KuCSktsL-DAL",
        "outputId": "11ff254e-2527-4d4d-a1cb-c54c8ab19681"
      },
      "execution_count": null,
      "outputs": [
        {
          "output_type": "execute_result",
          "data": {
            "text/plain": [
              "32.0"
            ]
          },
          "metadata": {},
          "execution_count": 96
        }
      ]
    },
    {
      "cell_type": "markdown",
      "source": [
        "##Abstraction\n"
      ],
      "metadata": {
        "id": "RqHlO4yahUO8"
      }
    },
    {
      "cell_type": "markdown",
      "source": [
        "###It is used to define a template for classes."
      ],
      "metadata": {
        "id": "bwPOrruohXGR"
      }
    },
    {
      "cell_type": "markdown",
      "source": [
        "It is implemented using Abstract Base Class (ABC)\n",
        "\n",
        "\n",
        "*   It can either define properties or methods.\n",
        "\n",
        "\n",
        "```\n",
        "@abstractmethod\n",
        "@properties\n",
        "```\n",
        "These 2 decorators are used to define the various properties and methods.\n",
        "\n",
        "\n"
      ],
      "metadata": {
        "id": "_cFdwWevlE3s"
      }
    },
    {
      "cell_type": "code",
      "source": [
        "from abc import ABC, abstractmethod\n",
        "\n",
        "# Define an abstract class\n",
        "class Animal(ABC):\n",
        "\n",
        "    @abstractmethod\n",
        "    def sound(self):\n",
        "        pass  # This is an abstract method, no implementation here.\n",
        "\n",
        "# Concrete subclass of Animal\n",
        "class Dog(Animal):\n",
        "\n",
        "    def sound(self):\n",
        "        return (\"Bark\")  # Providing the implementation of the abstract method\n",
        "\n",
        "# Create an instance of Dog\n",
        "dog = Dog()\n",
        "print(dog.sound())  # Output: Bark"
      ],
      "metadata": {
        "colab": {
          "base_uri": "https://localhost:8080/"
        },
        "id": "pQJaAYgDhyKL",
        "outputId": "87a776e1-ae86-4c02-f347-c037d0490b6f"
      },
      "execution_count": null,
      "outputs": [
        {
          "output_type": "stream",
          "name": "stdout",
          "text": [
            "Bark\n"
          ]
        }
      ]
    },
    {
      "cell_type": "code",
      "source": [
        "class Cat(Animal):\n",
        "      def meow(self):\n",
        "        print(\"meow\")\n",
        "\n",
        "cat=Cat()#cant instantiate this class without overiding sound method\n",
        "\n"
      ],
      "metadata": {
        "colab": {
          "base_uri": "https://localhost:8080/",
          "height": 193
        },
        "id": "RDSP5-nFh_7j",
        "outputId": "ad38c5b6-374b-4869-e126-443b9102aec3"
      },
      "execution_count": null,
      "outputs": [
        {
          "output_type": "error",
          "ename": "TypeError",
          "evalue": "Can't instantiate abstract class Cat with abstract method sound",
          "traceback": [
            "\u001b[0;31m---------------------------------------------------------------------------\u001b[0m",
            "\u001b[0;31mTypeError\u001b[0m                                 Traceback (most recent call last)",
            "\u001b[0;32m<ipython-input-100-3751eda2c291>\u001b[0m in \u001b[0;36m<cell line: 5>\u001b[0;34m()\u001b[0m\n\u001b[1;32m      3\u001b[0m         \u001b[0mprint\u001b[0m\u001b[0;34m(\u001b[0m\u001b[0;34m\"meow\"\u001b[0m\u001b[0;34m)\u001b[0m\u001b[0;34m\u001b[0m\u001b[0;34m\u001b[0m\u001b[0m\n\u001b[1;32m      4\u001b[0m \u001b[0;34m\u001b[0m\u001b[0m\n\u001b[0;32m----> 5\u001b[0;31m \u001b[0mcat\u001b[0m\u001b[0;34m=\u001b[0m\u001b[0mCat\u001b[0m\u001b[0;34m(\u001b[0m\u001b[0;34m)\u001b[0m\u001b[0;31m#cant instantiate this class without overiding sound method\u001b[0m\u001b[0;34m\u001b[0m\u001b[0;34m\u001b[0m\u001b[0m\n\u001b[0m\u001b[1;32m      6\u001b[0m \u001b[0;34m\u001b[0m\u001b[0m\n",
            "\u001b[0;31mTypeError\u001b[0m: Can't instantiate abstract class Cat with abstract method sound"
          ]
        }
      ]
    },
    {
      "cell_type": "code",
      "source": [
        "animal=Animal()#you cant instantiate an abstract class"
      ],
      "metadata": {
        "id": "wbciyCr5jAjX"
      },
      "execution_count": null,
      "outputs": []
    },
    {
      "cell_type": "markdown",
      "source": [
        "It is used to instantiate attributes that need logic to get or est their value."
      ],
      "metadata": {
        "id": "vfgI5mebs-sW"
      }
    },
    {
      "cell_type": "markdown",
      "source": [
        "\n",
        "#Working with Libraries (Numpy and Pandas)"
      ],
      "metadata": {
        "id": "0XY4qrVa6o54"
      }
    },
    {
      "cell_type": "code",
      "execution_count": null,
      "metadata": {
        "colab": {
          "base_uri": "https://localhost:8080/"
        },
        "collapsed": true,
        "id": "keqIcIXYpB0J",
        "outputId": "04b00a04-0e96-4923-fd8b-ff587e9994bc"
      },
      "outputs": [
        {
          "output_type": "stream",
          "name": "stdout",
          "text": [
            "Requirement already satisfied: numpy in /usr/local/lib/python3.10/dist-packages (1.26.4)\n",
            "Requirement already satisfied: pandas in /usr/local/lib/python3.10/dist-packages (2.2.2)\n",
            "Requirement already satisfied: matplotlib in /usr/local/lib/python3.10/dist-packages (3.8.0)\n",
            "Requirement already satisfied: seaborn in /usr/local/lib/python3.10/dist-packages (0.13.2)\n",
            "Requirement already satisfied: scikit-learn in /usr/local/lib/python3.10/dist-packages (1.6.0)\n",
            "Requirement already satisfied: python-dateutil>=2.8.2 in /usr/local/lib/python3.10/dist-packages (from pandas) (2.8.2)\n",
            "Requirement already satisfied: pytz>=2020.1 in /usr/local/lib/python3.10/dist-packages (from pandas) (2024.2)\n",
            "Requirement already satisfied: tzdata>=2022.7 in /usr/local/lib/python3.10/dist-packages (from pandas) (2024.2)\n",
            "Requirement already satisfied: contourpy>=1.0.1 in /usr/local/lib/python3.10/dist-packages (from matplotlib) (1.3.1)\n",
            "Requirement already satisfied: cycler>=0.10 in /usr/local/lib/python3.10/dist-packages (from matplotlib) (0.12.1)\n",
            "Requirement already satisfied: fonttools>=4.22.0 in /usr/local/lib/python3.10/dist-packages (from matplotlib) (4.55.3)\n",
            "Requirement already satisfied: kiwisolver>=1.0.1 in /usr/local/lib/python3.10/dist-packages (from matplotlib) (1.4.7)\n",
            "Requirement already satisfied: packaging>=20.0 in /usr/local/lib/python3.10/dist-packages (from matplotlib) (24.2)\n",
            "Requirement already satisfied: pillow>=6.2.0 in /usr/local/lib/python3.10/dist-packages (from matplotlib) (11.0.0)\n",
            "Requirement already satisfied: pyparsing>=2.3.1 in /usr/local/lib/python3.10/dist-packages (from matplotlib) (3.2.0)\n",
            "Requirement already satisfied: scipy>=1.6.0 in /usr/local/lib/python3.10/dist-packages (from scikit-learn) (1.13.1)\n",
            "Requirement already satisfied: joblib>=1.2.0 in /usr/local/lib/python3.10/dist-packages (from scikit-learn) (1.4.2)\n",
            "Requirement already satisfied: threadpoolctl>=3.1.0 in /usr/local/lib/python3.10/dist-packages (from scikit-learn) (3.5.0)\n",
            "Requirement already satisfied: six>=1.5 in /usr/local/lib/python3.10/dist-packages (from python-dateutil>=2.8.2->pandas) (1.17.0)\n"
          ]
        }
      ],
      "source": [
        "#installing libraries\n",
        "!pip install numpy pandas matplotlib seaborn scikit-learn\n"
      ]
    },
    {
      "cell_type": "code",
      "source": [
        "import numpy as np\n",
        "import pandas as pd"
      ],
      "metadata": {
        "id": "Z0Noh-Zm6kLN"
      },
      "execution_count": null,
      "outputs": []
    },
    {
      "cell_type": "code",
      "source": [
        "# Numpy example\n",
        "l=[\"arya\",1]\n",
        "arr = np.array([1, 2, 3, 4, \"hello\"])\n",
        "print(f\"Array mean: {np.mean(arr)}\")"
      ],
      "metadata": {
        "colab": {
          "base_uri": "https://localhost:8080/",
          "height": 321
        },
        "id": "ID_inkZx6wun",
        "outputId": "2ee321b5-119a-48e6-e448-b15db42aa8cc"
      },
      "execution_count": null,
      "outputs": [
        {
          "output_type": "error",
          "ename": "UFuncTypeError",
          "evalue": "ufunc 'add' did not contain a loop with signature matching types (dtype('<U21'), dtype('<U21')) -> None",
          "traceback": [
            "\u001b[0;31m---------------------------------------------------------------------------\u001b[0m",
            "\u001b[0;31mUFuncTypeError\u001b[0m                            Traceback (most recent call last)",
            "\u001b[0;32m<ipython-input-111-af22f86332ce>\u001b[0m in \u001b[0;36m<cell line: 4>\u001b[0;34m()\u001b[0m\n\u001b[1;32m      2\u001b[0m \u001b[0ml\u001b[0m\u001b[0;34m=\u001b[0m\u001b[0;34m[\u001b[0m\u001b[0;34m\"arya\"\u001b[0m\u001b[0;34m,\u001b[0m\u001b[0;36m1\u001b[0m\u001b[0;34m]\u001b[0m\u001b[0;34m\u001b[0m\u001b[0;34m\u001b[0m\u001b[0m\n\u001b[1;32m      3\u001b[0m \u001b[0marr\u001b[0m \u001b[0;34m=\u001b[0m \u001b[0mnp\u001b[0m\u001b[0;34m.\u001b[0m\u001b[0marray\u001b[0m\u001b[0;34m(\u001b[0m\u001b[0;34m[\u001b[0m\u001b[0;36m1\u001b[0m\u001b[0;34m,\u001b[0m \u001b[0;36m2\u001b[0m\u001b[0;34m,\u001b[0m \u001b[0;36m3\u001b[0m\u001b[0;34m,\u001b[0m \u001b[0;36m4\u001b[0m\u001b[0;34m,\u001b[0m \u001b[0;34m\"hello\"\u001b[0m\u001b[0;34m]\u001b[0m\u001b[0;34m)\u001b[0m\u001b[0;34m\u001b[0m\u001b[0;34m\u001b[0m\u001b[0m\n\u001b[0;32m----> 4\u001b[0;31m \u001b[0mprint\u001b[0m\u001b[0;34m(\u001b[0m\u001b[0;34mf\"Array mean: {np.mean(arr)}\"\u001b[0m\u001b[0;34m)\u001b[0m\u001b[0;34m\u001b[0m\u001b[0;34m\u001b[0m\u001b[0m\n\u001b[0m",
            "\u001b[0;32m/usr/local/lib/python3.10/dist-packages/numpy/core/fromnumeric.py\u001b[0m in \u001b[0;36mmean\u001b[0;34m(a, axis, dtype, out, keepdims, where)\u001b[0m\n\u001b[1;32m   3502\u001b[0m             \u001b[0;32mreturn\u001b[0m \u001b[0mmean\u001b[0m\u001b[0;34m(\u001b[0m\u001b[0maxis\u001b[0m\u001b[0;34m=\u001b[0m\u001b[0maxis\u001b[0m\u001b[0;34m,\u001b[0m \u001b[0mdtype\u001b[0m\u001b[0;34m=\u001b[0m\u001b[0mdtype\u001b[0m\u001b[0;34m,\u001b[0m \u001b[0mout\u001b[0m\u001b[0;34m=\u001b[0m\u001b[0mout\u001b[0m\u001b[0;34m,\u001b[0m \u001b[0;34m**\u001b[0m\u001b[0mkwargs\u001b[0m\u001b[0;34m)\u001b[0m\u001b[0;34m\u001b[0m\u001b[0;34m\u001b[0m\u001b[0m\n\u001b[1;32m   3503\u001b[0m \u001b[0;34m\u001b[0m\u001b[0m\n\u001b[0;32m-> 3504\u001b[0;31m     return _methods._mean(a, axis=axis, dtype=dtype,\n\u001b[0m\u001b[1;32m   3505\u001b[0m                           out=out, **kwargs)\n\u001b[1;32m   3506\u001b[0m \u001b[0;34m\u001b[0m\u001b[0m\n",
            "\u001b[0;32m/usr/local/lib/python3.10/dist-packages/numpy/core/_methods.py\u001b[0m in \u001b[0;36m_mean\u001b[0;34m(a, axis, dtype, out, keepdims, where)\u001b[0m\n\u001b[1;32m    116\u001b[0m             \u001b[0mis_float16_result\u001b[0m \u001b[0;34m=\u001b[0m \u001b[0;32mTrue\u001b[0m\u001b[0;34m\u001b[0m\u001b[0;34m\u001b[0m\u001b[0m\n\u001b[1;32m    117\u001b[0m \u001b[0;34m\u001b[0m\u001b[0m\n\u001b[0;32m--> 118\u001b[0;31m     \u001b[0mret\u001b[0m \u001b[0;34m=\u001b[0m \u001b[0mumr_sum\u001b[0m\u001b[0;34m(\u001b[0m\u001b[0marr\u001b[0m\u001b[0;34m,\u001b[0m \u001b[0maxis\u001b[0m\u001b[0;34m,\u001b[0m \u001b[0mdtype\u001b[0m\u001b[0;34m,\u001b[0m \u001b[0mout\u001b[0m\u001b[0;34m,\u001b[0m \u001b[0mkeepdims\u001b[0m\u001b[0;34m,\u001b[0m \u001b[0mwhere\u001b[0m\u001b[0;34m=\u001b[0m\u001b[0mwhere\u001b[0m\u001b[0;34m)\u001b[0m\u001b[0;34m\u001b[0m\u001b[0;34m\u001b[0m\u001b[0m\n\u001b[0m\u001b[1;32m    119\u001b[0m     \u001b[0;32mif\u001b[0m \u001b[0misinstance\u001b[0m\u001b[0;34m(\u001b[0m\u001b[0mret\u001b[0m\u001b[0;34m,\u001b[0m \u001b[0mmu\u001b[0m\u001b[0;34m.\u001b[0m\u001b[0mndarray\u001b[0m\u001b[0;34m)\u001b[0m\u001b[0;34m:\u001b[0m\u001b[0;34m\u001b[0m\u001b[0;34m\u001b[0m\u001b[0m\n\u001b[1;32m    120\u001b[0m         \u001b[0;32mwith\u001b[0m \u001b[0m_no_nep50_warning\u001b[0m\u001b[0;34m(\u001b[0m\u001b[0;34m)\u001b[0m\u001b[0;34m:\u001b[0m\u001b[0;34m\u001b[0m\u001b[0;34m\u001b[0m\u001b[0m\n",
            "\u001b[0;31mUFuncTypeError\u001b[0m: ufunc 'add' did not contain a loop with signature matching types (dtype('<U21'), dtype('<U21')) -> None"
          ]
        }
      ]
    },
    {
      "cell_type": "code",
      "source": [
        "# Pandas example\n",
        "data = {\"Name\": [\"Alice\", \"Bob\", \"Charlie\"], \"Age\": [25, 30, 35]}\n",
        "df = pd.DataFrame(data)\n",
        "print(df)"
      ],
      "metadata": {
        "colab": {
          "base_uri": "https://localhost:8080/"
        },
        "id": "6J5LiVxE60Xj",
        "outputId": "3c4f1170-1b8e-453c-ca81-4b05669f16d8"
      },
      "execution_count": null,
      "outputs": [
        {
          "output_type": "stream",
          "name": "stdout",
          "text": [
            "      Name  Age\n",
            "0    Alice   25\n",
            "1      Bob   30\n",
            "2  Charlie   35\n"
          ]
        }
      ]
    },
    {
      "cell_type": "markdown",
      "source": [
        "## Part 3: Data Visualization"
      ],
      "metadata": {
        "id": "gX-48lIY7AFS"
      }
    },
    {
      "cell_type": "markdown",
      "source": [
        "### Matplotlib and Seaborn"
      ],
      "metadata": {
        "id": "_2dyjrBH7ENn"
      }
    },
    {
      "cell_type": "code",
      "source": [
        "import matplotlib.pyplot as plt\n",
        "import seaborn as sns"
      ],
      "metadata": {
        "id": "ioqQa7jX7BOo"
      },
      "execution_count": null,
      "outputs": []
    },
    {
      "cell_type": "code",
      "source": [
        "# Matplotlib example\n",
        "x = np.linspace(0, 10, 100)\n",
        "y = np.sin(x)\n",
        "plt.plot(x, y, label=\"Sine Wave\")\n",
        "plt.legend()\n",
        "plt.show()"
      ],
      "metadata": {
        "colab": {
          "base_uri": "https://localhost:8080/",
          "height": 430
        },
        "id": "6txAtTw77LZW",
        "outputId": "625291d9-980c-4735-95e9-1c1cf607856e"
      },
      "execution_count": null,
      "outputs": [
        {
          "output_type": "display_data",
          "data": {
            "text/plain": [
              "<Figure size 640x480 with 1 Axes>"
            ],
            "image/png": "[encoded data removed]"
          },
          "metadata": {}
        }
      ]
    },
    {
      "cell_type": "code",
      "source": [
        "# Seaborn example\n",
        "sns.histplot(df[\"Age\"], kde=True)\n",
        "plt.show()"
      ],
      "metadata": {
        "colab": {
          "base_uri": "https://localhost:8080/",
          "height": 449
        },
        "id": "hBdKvjkR7NJ7",
        "outputId": "fbb9bdec-ad82-494c-ba35-4d7bae84b7cd"
      },
      "execution_count": null,
      "outputs": [
        {
          "output_type": "display_data",
          "data": {
            "text/plain": [
              "<Figure size 640x480 with 1 Axes>"
            ],
            "image/png": "[encoded data removed]"
          },
          "metadata": {}
        }
      ]
    },
    {
      "cell_type": "markdown",
      "source": [
        "## Part 4: Introduction to Machine Learning"
      ],
      "metadata": {
        "id": "zOBS7d457Vvl"
      }
    },
    {
      "cell_type": "markdown",
      "source": [
        "### Scikit-learn Basics"
      ],
      "metadata": {
        "id": "EeD4dCH97aCn"
      }
    },
    {
      "cell_type": "code",
      "source": [
        "from sklearn.datasets import load_iris\n",
        "from sklearn.model_selection import train_test_split\n",
        "from sklearn.ensemble import RandomForestClassifier"
      ],
      "metadata": {
        "id": "B5KnXCaW7WoL"
      },
      "execution_count": null,
      "outputs": []
    },
    {
      "cell_type": "code",
      "source": [
        "# Load data\n",
        "iris = load_iris()\n",
        "X_train, X_test, y_train, y_test = train_test_split(iris.data, iris.target, test_size=0.2, random_state=42)"
      ],
      "metadata": {
        "id": "_2eAZY6V7evc"
      },
      "execution_count": null,
      "outputs": []
    },
    {
      "cell_type": "code",
      "source": [
        "# Train model\n",
        "model = RandomForestClassifier()\n",
        "model.fit(X_train, y_train)"
      ],
      "metadata": {
        "colab": {
          "base_uri": "https://localhost:8080/",
          "height": 80
        },
        "id": "a4Bh7zky7iPi",
        "outputId": "c067317e-8912-4847-8413-56149a856ab8"
      },
      "execution_count": null,
      "outputs": [
        {
          "output_type": "execute_result",
          "data": {
            "text/plain": [
              "RandomForestClassifier()"
            ],
            "text/html": [
              "<style>#sk-container-id-1 {\n",
              "  /* Definition of color scheme common for light and dark mode */\n",
              "  --sklearn-color-text: #000;\n",
              "  --sklearn-color-text-muted: #666;\n",
              "  --sklearn-color-line: gray;\n",
              "  /* Definition of color scheme for unfitted estimators */\n",
              "  --sklearn-color-unfitted-level-0: #fff5e6;\n",
              "  --sklearn-color-unfitted-level-1: #f6e4d2;\n",
              "  --sklearn-color-unfitted-level-2: #ffe0b3;\n",
              "  --sklearn-color-unfitted-level-3: chocolate;\n",
              "  /* Definition of color scheme for fitted estimators */\n",
              "  --sklearn-color-fitted-level-0: #f0f8ff;\n",
              "  --sklearn-color-fitted-level-1: #d4ebff;\n",
              "  --sklearn-color-fitted-level-2: #b3dbfd;\n",
              "  --sklearn-color-fitted-level-3: cornflowerblue;\n",
              "\n",
              "  /* Specific color for light theme */\n",
              "  --sklearn-color-text-on-default-background: var(--sg-text-color, var(--theme-code-foreground, var(--jp-content-font-color1, black)));\n",
              "  --sklearn-color-background: var(--sg-background-color, var(--theme-background, var(--jp-layout-color0, white)));\n",
              "  --sklearn-color-border-box: var(--sg-text-color, var(--theme-code-foreground, var(--jp-content-font-color1, black)));\n",
              "  --sklearn-color-icon: #696969;\n",
              "\n",
              "  @media (prefers-color-scheme: dark) {\n",
              "    /* Redefinition of color scheme for dark theme */\n",
              "    --sklearn-color-text-on-default-background: var(--sg-text-color, var(--theme-code-foreground, var(--jp-content-font-color1, white)));\n",
              "    --sklearn-color-background: var(--sg-background-color, var(--theme-background, var(--jp-layout-color0, #111)));\n",
              "    --sklearn-color-border-box: var(--sg-text-color, var(--theme-code-foreground, var(--jp-content-font-color1, white)));\n",
              "    --sklearn-color-icon: #878787;\n",
              "  }\n",
              "}\n",
              "\n",
              "#sk-container-id-1 {\n",
              "  color: var(--sklearn-color-text);\n",
              "}\n",
              "\n",
              "#sk-container-id-1 pre {\n",
              "  padding: 0;\n",
              "}\n",
              "\n",
              "#sk-container-id-1 input.sk-hidden--visually {\n",
              "  border: 0;\n",
              "  clip: rect(1px 1px 1px 1px);\n",
              "  clip: rect(1px, 1px, 1px, 1px);\n",
              "  height: 1px;\n",
              "  margin: -1px;\n",
              "  overflow: hidden;\n",
              "  padding: 0;\n",
              "  position: absolute;\n",
              "  width: 1px;\n",
              "}\n",
              "\n",
              "#sk-container-id-1 div.sk-dashed-wrapped {\n",
              "  border: 1px dashed var(--sklearn-color-line);\n",
              "  margin: 0 0.4em 0.5em 0.4em;\n",
              "  box-sizing: border-box;\n",
              "  padding-bottom: 0.4em;\n",
              "  background-color: var(--sklearn-color-background);\n",
              "}\n",
              "\n",
              "#sk-container-id-1 div.sk-container {\n",
              "  /* jupyter's `normalize.less` sets `[hidden] { display: none; }`\n",
              "     but bootstrap.min.css set `[hidden] { display: none !important; }`\n",
              "     so we also need the `!important` here to be able to override the\n",
              "     default hidden behavior on the sphinx rendered scikit-learn.org.\n",
              "     See: https://github.com/scikit-learn/scikit-learn/issues/21755 */\n",
              "  display: inline-block !important;\n",
              "  position: relative;\n",
              "}\n",
              "\n",
              "#sk-container-id-1 div.sk-text-repr-fallback {\n",
              "  display: none;\n",
              "}\n",
              "\n",
              "div.sk-parallel-item,\n",
              "div.sk-serial,\n",
              "div.sk-item {\n",
              "  /* draw centered vertical line to link estimators */\n",
              "  background-image: linear-gradient(var(--sklearn-color-text-on-default-background), var(--sklearn-color-text-on-default-background));\n",
              "  background-size: 2px 100%;\n",
              "  background-repeat: no-repeat;\n",
              "  background-position: center center;\n",
              "}\n",
              "\n",
              "/* Parallel-specific style estimator block */\n",
              "\n",
              "#sk-container-id-1 div.sk-parallel-item::after {\n",
              "  content: \"\";\n",
              "  width: 100%;\n",
              "  border-bottom: 2px solid var(--sklearn-color-text-on-default-background);\n",
              "  flex-grow: 1;\n",
              "}\n",
              "\n",
              "#sk-container-id-1 div.sk-parallel {\n",
              "  display: flex;\n",
              "  align-items: stretch;\n",
              "  justify-content: center;\n",
              "  background-color: var(--sklearn-color-background);\n",
              "  position: relative;\n",
              "}\n",
              "\n",
              "#sk-container-id-1 div.sk-parallel-item {\n",
              "  display: flex;\n",
              "  flex-direction: column;\n",
              "}\n",
              "\n",
              "#sk-container-id-1 div.sk-parallel-item:first-child::after {\n",
              "  align-self: flex-end;\n",
              "  width: 50%;\n",
              "}\n",
              "\n",
              "#sk-container-id-1 div.sk-parallel-item:last-child::after {\n",
              "  align-self: flex-start;\n",
              "  width: 50%;\n",
              "}\n",
              "\n",
              "#sk-container-id-1 div.sk-parallel-item:only-child::after {\n",
              "  width: 0;\n",
              "}\n",
              "\n",
              "/* Serial-specific style estimator block */\n",
              "\n",
              "#sk-container-id-1 div.sk-serial {\n",
              "  display: flex;\n",
              "  flex-direction: column;\n",
              "  align-items: center;\n",
              "  background-color: var(--sklearn-color-background);\n",
              "  padding-right: 1em;\n",
              "  padding-left: 1em;\n",
              "}\n",
              "\n",
              "\n",
              "/* Toggleable style: style used for estimator/Pipeline/ColumnTransformer box that is\n",
              "clickable and can be expanded/collapsed.\n",
              "- Pipeline and ColumnTransformer use this feature and define the default style\n",
              "- Estimators will overwrite some part of the style using the `sk-estimator` class\n",
              "*/\n",
              "\n",
              "/* Pipeline and ColumnTransformer style (default) */\n",
              "\n",
              "#sk-container-id-1 div.sk-toggleable {\n",
              "  /* Default theme specific background. It is overwritten whether we have a\n",
              "  specific estimator or a Pipeline/ColumnTransformer */\n",
              "  background-color: var(--sklearn-color-background);\n",
              "}\n",
              "\n",
              "/* Toggleable label */\n",
              "#sk-container-id-1 label.sk-toggleable__label {\n",
              "  cursor: pointer;\n",
              "  display: flex;\n",
              "  width: 100%;\n",
              "  margin-bottom: 0;\n",
              "  padding: 0.5em;\n",
              "  box-sizing: border-box;\n",
              "  text-align: center;\n",
              "  align-items: start;\n",
              "  justify-content: space-between;\n",
              "  gap: 0.5em;\n",
              "}\n",
              "\n",
              "#sk-container-id-1 label.sk-toggleable__label .caption {\n",
              "  font-size: 0.6rem;\n",
              "  font-weight: lighter;\n",
              "  color: var(--sklearn-color-text-muted);\n",
              "}\n",
              "\n",
              "#sk-container-id-1 label.sk-toggleable__label-arrow:before {\n",
              "  /* Arrow on the left of the label */\n",
              "  content: \"▸\";\n",
              "  float: left;\n",
              "  margin-right: 0.25em;\n",
              "  color: var(--sklearn-color-icon);\n",
              "}\n",
              "\n",
              "#sk-container-id-1 label.sk-toggleable__label-arrow:hover:before {\n",
              "  color: var(--sklearn-color-text);\n",
              "}\n",
              "\n",
              "/* Toggleable content - dropdown */\n",
              "\n",
              "#sk-container-id-1 div.sk-toggleable__content {\n",
              "  max-height: 0;\n",
              "  max-width: 0;\n",
              "  overflow: hidden;\n",
              "  text-align: left;\n",
              "  /* unfitted */\n",
              "  background-color: var(--sklearn-color-unfitted-level-0);\n",
              "}\n",
              "\n",
              "#sk-container-id-1 div.sk-toggleable__content.fitted {\n",
              "  /* fitted */\n",
              "  background-color: var(--sklearn-color-fitted-level-0);\n",
              "}\n",
              "\n",
              "#sk-container-id-1 div.sk-toggleable__content pre {\n",
              "  margin: 0.2em;\n",
              "  border-radius: 0.25em;\n",
              "  color: var(--sklearn-color-text);\n",
              "  /* unfitted */\n",
              "  background-color: var(--sklearn-color-unfitted-level-0);\n",
              "}\n",
              "\n",
              "#sk-container-id-1 div.sk-toggleable__content.fitted pre {\n",
              "  /* unfitted */\n",
              "  background-color: var(--sklearn-color-fitted-level-0);\n",
              "}\n",
              "\n",
              "#sk-container-id-1 input.sk-toggleable__control:checked~div.sk-toggleable__content {\n",
              "  /* Expand drop-down */\n",
              "  max-height: 200px;\n",
              "  max-width: 100%;\n",
              "  overflow: auto;\n",
              "}\n",
              "\n",
              "#sk-container-id-1 input.sk-toggleable__control:checked~label.sk-toggleable__label-arrow:before {\n",
              "  content: \"▾\";\n",
              "}\n",
              "\n",
              "/* Pipeline/ColumnTransformer-specific style */\n",
              "\n",
              "#sk-container-id-1 div.sk-label input.sk-toggleable__control:checked~label.sk-toggleable__label {\n",
              "  color: var(--sklearn-color-text);\n",
              "  background-color: var(--sklearn-color-unfitted-level-2);\n",
              "}\n",
              "\n",
              "#sk-container-id-1 div.sk-label.fitted input.sk-toggleable__control:checked~label.sk-toggleable__label {\n",
              "  background-color: var(--sklearn-color-fitted-level-2);\n",
              "}\n",
              "\n",
              "/* Estimator-specific style */\n",
              "\n",
              "/* Colorize estimator box */\n",
              "#sk-container-id-1 div.sk-estimator input.sk-toggleable__control:checked~label.sk-toggleable__label {\n",
              "  /* unfitted */\n",
              "  background-color: var(--sklearn-color-unfitted-level-2);\n",
              "}\n",
              "\n",
              "#sk-container-id-1 div.sk-estimator.fitted input.sk-toggleable__control:checked~label.sk-toggleable__label {\n",
              "  /* fitted */\n",
              "  background-color: var(--sklearn-color-fitted-level-2);\n",
              "}\n",
              "\n",
              "#sk-container-id-1 div.sk-label label.sk-toggleable__label,\n",
              "#sk-container-id-1 div.sk-label label {\n",
              "  /* The background is the default theme color */\n",
              "  color: var(--sklearn-color-text-on-default-background);\n",
              "}\n",
              "\n",
              "/* On hover, darken the color of the background */\n",
              "#sk-container-id-1 div.sk-label:hover label.sk-toggleable__label {\n",
              "  color: var(--sklearn-color-text);\n",
              "  background-color: var(--sklearn-color-unfitted-level-2);\n",
              "}\n",
              "\n",
              "/* Label box, darken color on hover, fitted */\n",
              "#sk-container-id-1 div.sk-label.fitted:hover label.sk-toggleable__label.fitted {\n",
              "  color: var(--sklearn-color-text);\n",
              "  background-color: var(--sklearn-color-fitted-level-2);\n",
              "}\n",
              "\n",
              "/* Estimator label */\n",
              "\n",
              "#sk-container-id-1 div.sk-label label {\n",
              "  font-family: monospace;\n",
              "  font-weight: bold;\n",
              "  display: inline-block;\n",
              "  line-height: 1.2em;\n",
              "}\n",
              "\n",
              "#sk-container-id-1 div.sk-label-container {\n",
              "  text-align: center;\n",
              "}\n",
              "\n",
              "/* Estimator-specific */\n",
              "#sk-container-id-1 div.sk-estimator {\n",
              "  font-family: monospace;\n",
              "  border: 1px dotted var(--sklearn-color-border-box);\n",
              "  border-radius: 0.25em;\n",
              "  box-sizing: border-box;\n",
              "  margin-bottom: 0.5em;\n",
              "  /* unfitted */\n",
              "  background-color: var(--sklearn-color-unfitted-level-0);\n",
              "}\n",
              "\n",
              "#sk-container-id-1 div.sk-estimator.fitted {\n",
              "  /* fitted */\n",
              "  background-color: var(--sklearn-color-fitted-level-0);\n",
              "}\n",
              "\n",
              "/* on hover */\n",
              "#sk-container-id-1 div.sk-estimator:hover {\n",
              "  /* unfitted */\n",
              "  background-color: var(--sklearn-color-unfitted-level-2);\n",
              "}\n",
              "\n",
              "#sk-container-id-1 div.sk-estimator.fitted:hover {\n",
              "  /* fitted */\n",
              "  background-color: var(--sklearn-color-fitted-level-2);\n",
              "}\n",
              "\n",
              "/* Specification for estimator info (e.g. \"i\" and \"?\") */\n",
              "\n",
              "/* Common style for \"i\" and \"?\" */\n",
              "\n",
              ".sk-estimator-doc-link,\n",
              "a:link.sk-estimator-doc-link,\n",
              "a:visited.sk-estimator-doc-link {\n",
              "  float: right;\n",
              "  font-size: smaller;\n",
              "  line-height: 1em;\n",
              "  font-family: monospace;\n",
              "  background-color: var(--sklearn-color-background);\n",
              "  border-radius: 1em;\n",
              "  height: 1em;\n",
              "  width: 1em;\n",
              "  text-decoration: none !important;\n",
              "  margin-left: 0.5em;\n",
              "  text-align: center;\n",
              "  /* unfitted */\n",
              "  border: var(--sklearn-color-unfitted-level-1) 1pt solid;\n",
              "  color: var(--sklearn-color-unfitted-level-1);\n",
              "}\n",
              "\n",
              ".sk-estimator-doc-link.fitted,\n",
              "a:link.sk-estimator-doc-link.fitted,\n",
              "a:visited.sk-estimator-doc-link.fitted {\n",
              "  /* fitted */\n",
              "  border: var(--sklearn-color-fitted-level-1) 1pt solid;\n",
              "  color: var(--sklearn-color-fitted-level-1);\n",
              "}\n",
              "\n",
              "/* On hover */\n",
              "div.sk-estimator:hover .sk-estimator-doc-link:hover,\n",
              ".sk-estimator-doc-link:hover,\n",
              "div.sk-label-container:hover .sk-estimator-doc-link:hover,\n",
              ".sk-estimator-doc-link:hover {\n",
              "  /* unfitted */\n",
              "  background-color: var(--sklearn-color-unfitted-level-3);\n",
              "  color: var(--sklearn-color-background);\n",
              "  text-decoration: none;\n",
              "}\n",
              "\n",
              "div.sk-estimator.fitted:hover .sk-estimator-doc-link.fitted:hover,\n",
              ".sk-estimator-doc-link.fitted:hover,\n",
              "div.sk-label-container:hover .sk-estimator-doc-link.fitted:hover,\n",
              ".sk-estimator-doc-link.fitted:hover {\n",
              "  /* fitted */\n",
              "  background-color: var(--sklearn-color-fitted-level-3);\n",
              "  color: var(--sklearn-color-background);\n",
              "  text-decoration: none;\n",
              "}\n",
              "\n",
              "/* Span, style for the box shown on hovering the info icon */\n",
              ".sk-estimator-doc-link span {\n",
              "  display: none;\n",
              "  z-index: 9999;\n",
              "  position: relative;\n",
              "  font-weight: normal;\n",
              "  right: .2ex;\n",
              "  padding: .5ex;\n",
              "  margin: .5ex;\n",
              "  width: min-content;\n",
              "  min-width: 20ex;\n",
              "  max-width: 50ex;\n",
              "  color: var(--sklearn-color-text);\n",
              "  box-shadow: 2pt 2pt 4pt #999;\n",
              "  /* unfitted */\n",
              "  background: var(--sklearn-color-unfitted-level-0);\n",
              "  border: .5pt solid var(--sklearn-color-unfitted-level-3);\n",
              "}\n",
              "\n",
              ".sk-estimator-doc-link.fitted span {\n",
              "  /* fitted */\n",
              "  background: var(--sklearn-color-fitted-level-0);\n",
              "  border: var(--sklearn-color-fitted-level-3);\n",
              "}\n",
              "\n",
              ".sk-estimator-doc-link:hover span {\n",
              "  display: block;\n",
              "}\n",
              "\n",
              "/* \"?\"-specific style due to the `<a>` HTML tag */\n",
              "\n",
              "#sk-container-id-1 a.estimator_doc_link {\n",
              "  float: right;\n",
              "  font-size: 1rem;\n",
              "  line-height: 1em;\n",
              "  font-family: monospace;\n",
              "  background-color: var(--sklearn-color-background);\n",
              "  border-radius: 1rem;\n",
              "  height: 1rem;\n",
              "  width: 1rem;\n",
              "  text-decoration: none;\n",
              "  /* unfitted */\n",
              "  color: var(--sklearn-color-unfitted-level-1);\n",
              "  border: var(--sklearn-color-unfitted-level-1) 1pt solid;\n",
              "}\n",
              "\n",
              "#sk-container-id-1 a.estimator_doc_link.fitted {\n",
              "  /* fitted */\n",
              "  border: var(--sklearn-color-fitted-level-1) 1pt solid;\n",
              "  color: var(--sklearn-color-fitted-level-1);\n",
              "}\n",
              "\n",
              "/* On hover */\n",
              "#sk-container-id-1 a.estimator_doc_link:hover {\n",
              "  /* unfitted */\n",
              "  background-color: var(--sklearn-color-unfitted-level-3);\n",
              "  color: var(--sklearn-color-background);\n",
              "  text-decoration: none;\n",
              "}\n",
              "\n",
              "#sk-container-id-1 a.estimator_doc_link.fitted:hover {\n",
              "  /* fitted */\n",
              "  background-color: var(--sklearn-color-fitted-level-3);\n",
              "}\n",
              "</style><div id=\"sk-container-id-1\" class=\"sk-top-container\"><div class=\"sk-text-repr-fallback\"><pre>RandomForestClassifier()</pre><b>In a Jupyter environment, please rerun this cell to show the HTML representation or trust the notebook. <br />On GitHub, the HTML representation is unable to render, please try loading this page with nbviewer.org.</b></div><div class=\"sk-container\" hidden><div class=\"sk-item\"><div class=\"sk-estimator fitted sk-toggleable\"><input class=\"sk-toggleable__control sk-hidden--visually\" id=\"sk-estimator-id-1\" type=\"checkbox\" checked><label for=\"sk-estimator-id-1\" class=\"sk-toggleable__label fitted sk-toggleable__label-arrow\"><div><div>RandomForestClassifier</div></div><div><a class=\"sk-estimator-doc-link fitted\" rel=\"noreferrer\" target=\"_blank\" href=\"https://scikit-learn.org/1.6/modules/generated/sklearn.ensemble.RandomForestClassifier.html\">?<span>Documentation for RandomForestClassifier</span></a><span class=\"sk-estimator-doc-link fitted\">i<span>Fitted</span></span></div></label><div class=\"sk-toggleable__content fitted\"><pre>RandomForestClassifier()</pre></div> </div></div></div></div>"
            ]
          },
          "metadata": {},
          "execution_count": 19
        }
      ]
    },
    {
      "cell_type": "code",
      "source": [
        "# Test model\n",
        "accuracy = model.score(X_test, y_test)\n",
        "print(f\"Model accuracy: {accuracy}\")"
      ],
      "metadata": {
        "colab": {
          "base_uri": "https://localhost:8080/"
        },
        "id": "mVu2_5Jx7lds",
        "outputId": "9b0bffb5-863c-43d2-9646-73a663f478c7"
      },
      "execution_count": null,
      "outputs": [
        {
          "output_type": "stream",
          "name": "stdout",
          "text": [
            "Model accuracy: 1.0\n"
          ]
        }
      ]
    },
    {
      "cell_type": "markdown",
      "source": [
        "## Part 5: Advanced Machine Learning\n",
        "### Building a Pipeline and Model Evaluatio"
      ],
      "metadata": {
        "id": "kAAlWtKt7saD"
      }
    },
    {
      "cell_type": "code",
      "source": [
        "from sklearn.pipeline import Pipeline\n",
        "from sklearn.preprocessing import StandardScaler\n",
        "from sklearn.svm import SVC"
      ],
      "metadata": {
        "id": "HAe1f03_7yPb"
      },
      "execution_count": null,
      "outputs": []
    },
    {
      "cell_type": "code",
      "source": [
        "pipeline = Pipeline([\n",
        "    ('scaler', StandardScaler()),\n",
        "    ('svc', SVC(kernel='linear'))\n",
        "])"
      ],
      "metadata": {
        "id": "7D4MrWHT71VZ"
      },
      "execution_count": null,
      "outputs": []
    },
    {
      "cell_type": "code",
      "source": [
        "pipeline.fit(X_train, y_train)\n",
        "pipeline_accuracy = pipeline.score(X_test, y_test)\n",
        "print(f\"Pipeline accuracy: {pipeline_accuracy}\")"
      ],
      "metadata": {
        "colab": {
          "base_uri": "https://localhost:8080/"
        },
        "id": "CIE1jD4a74mh",
        "outputId": "b566af63-c9db-456c-a731-933f60a97dae"
      },
      "execution_count": null,
      "outputs": [
        {
          "output_type": "stream",
          "name": "stdout",
          "text": [
            "Pipeline accuracy: 0.9666666666666667\n"
          ]
        }
      ]
    },
    {
      "cell_type": "markdown",
      "source": [
        "## Part 6: Project - House Price Prediction\n",
        "### Steps\n",
        "1. Load dataset.\n",
        "2. Perform EDA (Exploratory Data Analysis).\n",
        "3. Preprocess data.\n",
        "4. Train a machine learning model."
      ],
      "metadata": {
        "id": "g3jdRkd-8BXj"
      }
    },
    {
      "cell_type": "code",
      "source": [],
      "metadata": {
        "id": "Plze1xOG78Cr"
      },
      "execution_count": null,
      "outputs": []
    }
  ]
}